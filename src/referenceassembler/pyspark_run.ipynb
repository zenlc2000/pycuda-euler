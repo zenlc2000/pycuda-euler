{
 "cells": [
  {
   "cell_type": "markdown",
   "metadata": {},
   "source": [
    "# PySpark\n",
    "* Familiar interface (map, reduce, take, fold, etc.)\n",
    "* Uses YARN and HDFS\n",
    "\n",
    "### Monitoring:\n",
    "    http://<driver-node>:4040\n",
    "    \n",
    "Assembler based on: \n",
    "    `https://pmelsted.wordpress.com/2013/11/23/naive-python-implementation-of-a-de-bruijn-graph/`"
   ]
  },
  {
   "cell_type": "code",
   "execution_count": 1,
   "metadata": {
    "collapsed": true
   },
   "outputs": [],
   "source": [
    "from pyspark import SparkContext"
   ]
  },
  {
   "cell_type": "code",
   "execution_count": 2,
   "metadata": {
    "collapsed": false
   },
   "outputs": [
    {
     "ename": "ValueError",
     "evalue": "Cannot run multiple SparkContexts at once; existing SparkContext(app=pyspark-shell, master=local[*]) created by getOrCreate at <string>:43 ",
     "output_type": "error",
     "traceback": [
      "\u001b[0;31m---------------------------------------------------------------------------\u001b[0m",
      "\u001b[0;31mValueError\u001b[0m                                Traceback (most recent call last)",
      "\u001b[0;32m<ipython-input-2-e2c4e4af0c18>\u001b[0m in \u001b[0;36m<module>\u001b[0;34m()\u001b[0m\n\u001b[0;32m----> 1\u001b[0;31m \u001b[0msc\u001b[0m \u001b[0;34m=\u001b[0m \u001b[0mSparkContext\u001b[0m\u001b[0;34m(\u001b[0m\u001b[0mmaster\u001b[0m\u001b[0;34m=\u001b[0m\u001b[0;34m'local[*]'\u001b[0m\u001b[0;34m)\u001b[0m\u001b[0;34m\u001b[0m\u001b[0m\n\u001b[0m",
      "\u001b[0;32m/usr/local/Cellar/apache-spark/2.0.1/libexec/python/pyspark/context.py\u001b[0m in \u001b[0;36m__init__\u001b[0;34m(self, master, appName, sparkHome, pyFiles, environment, batchSize, serializer, conf, gateway, jsc, profiler_cls)\u001b[0m\n\u001b[1;32m    110\u001b[0m         \"\"\"\n\u001b[1;32m    111\u001b[0m         \u001b[0mself\u001b[0m\u001b[0;34m.\u001b[0m\u001b[0m_callsite\u001b[0m \u001b[0;34m=\u001b[0m \u001b[0mfirst_spark_call\u001b[0m\u001b[0;34m(\u001b[0m\u001b[0;34m)\u001b[0m \u001b[0;32mor\u001b[0m \u001b[0mCallSite\u001b[0m\u001b[0;34m(\u001b[0m\u001b[0;32mNone\u001b[0m\u001b[0;34m,\u001b[0m \u001b[0;32mNone\u001b[0m\u001b[0;34m,\u001b[0m \u001b[0;32mNone\u001b[0m\u001b[0;34m)\u001b[0m\u001b[0;34m\u001b[0m\u001b[0m\n\u001b[0;32m--> 112\u001b[0;31m         \u001b[0mSparkContext\u001b[0m\u001b[0;34m.\u001b[0m\u001b[0m_ensure_initialized\u001b[0m\u001b[0;34m(\u001b[0m\u001b[0mself\u001b[0m\u001b[0;34m,\u001b[0m \u001b[0mgateway\u001b[0m\u001b[0;34m=\u001b[0m\u001b[0mgateway\u001b[0m\u001b[0;34m)\u001b[0m\u001b[0;34m\u001b[0m\u001b[0m\n\u001b[0m\u001b[1;32m    113\u001b[0m         \u001b[0;32mtry\u001b[0m\u001b[0;34m:\u001b[0m\u001b[0;34m\u001b[0m\u001b[0m\n\u001b[1;32m    114\u001b[0m             self._do_init(master, appName, sparkHome, pyFiles, environment, batchSize, serializer,\n",
      "\u001b[0;32m/usr/local/Cellar/apache-spark/2.0.1/libexec/python/pyspark/context.py\u001b[0m in \u001b[0;36m_ensure_initialized\u001b[0;34m(cls, instance, gateway)\u001b[0m\n\u001b[1;32m    257\u001b[0m                         \u001b[0;34m\" created by %s at %s:%s \"\u001b[0m\u001b[0;34m\u001b[0m\u001b[0m\n\u001b[1;32m    258\u001b[0m                         % (currentAppName, currentMaster,\n\u001b[0;32m--> 259\u001b[0;31m                             callsite.function, callsite.file, callsite.linenum))\n\u001b[0m\u001b[1;32m    260\u001b[0m                 \u001b[0;32melse\u001b[0m\u001b[0;34m:\u001b[0m\u001b[0;34m\u001b[0m\u001b[0m\n\u001b[1;32m    261\u001b[0m                     \u001b[0mSparkContext\u001b[0m\u001b[0;34m.\u001b[0m\u001b[0m_active_spark_context\u001b[0m \u001b[0;34m=\u001b[0m \u001b[0minstance\u001b[0m\u001b[0;34m\u001b[0m\u001b[0m\n",
      "\u001b[0;31mValueError\u001b[0m: Cannot run multiple SparkContexts at once; existing SparkContext(app=pyspark-shell, master=local[*]) created by getOrCreate at <string>:43 "
     ]
    }
   ],
   "source": [
    "sc = SparkContext(master='local[*]')"
   ]
  },
  {
   "cell_type": "code",
   "execution_count": null,
   "metadata": {
    "collapsed": false
   },
   "outputs": [],
   "source": [
    "# sc.defaultParallelism"
   ]
  },
  {
   "cell_type": "markdown",
   "metadata": {},
   "source": [
    "Data is stored internally in an RDD (Resilient Distributed Dataset)"
   ]
  },
  {
   "cell_type": "code",
   "execution_count": 3,
   "metadata": {
    "collapsed": false
   },
   "outputs": [
    {
     "data": {
      "text/plain": [
       "2"
      ]
     },
     "execution_count": 3,
     "metadata": {},
     "output_type": "execute_result"
    }
   ],
   "source": [
    "sc.defaultMinPartitions"
   ]
  },
  {
   "cell_type": "code",
   "execution_count": 4,
   "metadata": {
    "collapsed": true
   },
   "outputs": [],
   "source": [
    "complement = {'A': 'T', 'C': 'G', 'G': 'C', 'T': 'A'}"
   ]
  },
  {
   "cell_type": "code",
   "execution_count": null,
   "metadata": {
    "collapsed": true
   },
   "outputs": [],
   "source": []
  },
  {
   "cell_type": "code",
   "execution_count": 5,
   "metadata": {
    "collapsed": false
   },
   "outputs": [
    {
     "data": {
      "text/plain": [
       "2"
      ]
     },
     "execution_count": 5,
     "metadata": {},
     "output_type": "execute_result"
    }
   ],
   "source": [
    "raw_data = sc.textFile('hdfs://localhost:9000/Genome/Ba10k.sim1.fq')\n",
    "raw_data.getNumPartitions()"
   ]
  },
  {
   "cell_type": "markdown",
   "metadata": {},
   "source": [
    "## fastq file parser"
   ]
  },
  {
   "cell_type": "code",
   "execution_count": 6,
   "metadata": {
    "collapsed": false
   },
   "outputs": [],
   "source": [
    "data = raw_data.filter(lambda x: x[0] in ['A','C','G','T'])"
   ]
  },
  {
   "cell_type": "code",
   "execution_count": 7,
   "metadata": {
    "collapsed": true
   },
   "outputs": [],
   "source": [
    "k = 17"
   ]
  },
  {
   "cell_type": "markdown",
   "metadata": {},
   "source": [
    "## calculate list of kmers\n",
    "Both forward and the reverse complement."
   ]
  },
  {
   "cell_type": "code",
   "execution_count": 8,
   "metadata": {
    "collapsed": false
   },
   "outputs": [],
   "source": [
    "fwd_list = data.flatMap(lambda x: [x[i:i+k] for i in range(len(x.rstrip())-k+1)])\n",
    "\n",
    "\n",
    "rev_comp = data.map(lambda x:''.join(reversed([complement.get(base, base) for base in x])))\n",
    "\n",
    "rev_list = rev_comp.flatMap(lambda x: [x[i:i+k] for i in range(len(x.rstrip())-k+1)])"
   ]
  },
  {
   "cell_type": "code",
   "execution_count": 9,
   "metadata": {
    "collapsed": false
   },
   "outputs": [],
   "source": [
    "kmer_list = fwd_list + rev_list"
   ]
  },
  {
   "cell_type": "markdown",
   "metadata": {},
   "source": [
    "## now we need to coalesce them, like WordCount"
   ]
  },
  {
   "cell_type": "code",
   "execution_count": null,
   "metadata": {
    "collapsed": true
   },
   "outputs": [],
   "source": []
  },
  {
   "cell_type": "code",
   "execution_count": 10,
   "metadata": {
    "collapsed": false
   },
   "outputs": [],
   "source": [
    "emitter = kmer_list.map(lambda x: (x, 1))"
   ]
  },
  {
   "cell_type": "code",
   "execution_count": 11,
   "metadata": {
    "collapsed": false
   },
   "outputs": [
    {
     "data": {
      "text/plain": [
       "[('GATAACTCGATTTAAAC', 1),\n",
       " ('ATAACTCGATTTAAACC', 1),\n",
       " ('TAACTCGATTTAAACCA', 1),\n",
       " ('AACTCGATTTAAACCAG', 1),\n",
       " ('ACTCGATTTAAACCAGA', 1)]"
      ]
     },
     "execution_count": 11,
     "metadata": {},
     "output_type": "execute_result"
    }
   ],
   "source": [
    "emitter.take(5)"
   ]
  },
  {
   "cell_type": "code",
   "execution_count": 12,
   "metadata": {
    "collapsed": false
   },
   "outputs": [
    {
     "data": {
      "text/plain": [
       "[('CAAAACATCGCCATTAC', 10),\n",
       " ('TACGAAATCATCATCAT', 9),\n",
       " ('ACAGATGTAAAAGAGCG', 1),\n",
       " ('ACAAGATAGTCTTTTTT', 1),\n",
       " ('TTGGTGATACAGATCAA', 12),\n",
       " ('AAATTCGAACTTTCGAA', 1),\n",
       " ('GAAGAACGTTCATAATA', 1),\n",
       " ('GATTTCCCAGGAGTTAT', 1),\n",
       " ('ATACGTACAGAGGGTTT', 1),\n",
       " ('AATTACGTGATGAATCA', 1)]"
      ]
     },
     "execution_count": 12,
     "metadata": {},
     "output_type": "execute_result"
    }
   ],
   "source": [
    "kmer_counts = emitter.reduceByKey(lambda x, y: x+y)\n",
    "kmer_counts.take(10)"
   ]
  },
  {
   "cell_type": "code",
   "execution_count": 13,
   "metadata": {
    "collapsed": false
   },
   "outputs": [
    {
     "data": {
      "text/plain": [
       "131480"
      ]
     },
     "execution_count": 13,
     "metadata": {},
     "output_type": "execute_result"
    }
   ],
   "source": [
    "kmer_counts.count()"
   ]
  },
  {
   "cell_type": "code",
   "execution_count": 14,
   "metadata": {
    "collapsed": false
   },
   "outputs": [
    {
     "data": {
      "text/plain": [
       "['CAAAACATCGCCATTAC',\n",
       " 'TACGAAATCATCATCAT',\n",
       " 'ACAGATGTAAAAGAGCG',\n",
       " 'ACAAGATAGTCTTTTTT',\n",
       " 'TTGGTGATACAGATCAA']"
      ]
     },
     "execution_count": 14,
     "metadata": {},
     "output_type": "execute_result"
    }
   ],
   "source": [
    "kmer_counts.keys().take(5)"
   ]
  },
  {
   "cell_type": "code",
   "execution_count": 15,
   "metadata": {
    "collapsed": false
   },
   "outputs": [
    {
     "data": {
      "text/plain": [
       "[10, 9, 1, 1, 12]"
      ]
     },
     "execution_count": 15,
     "metadata": {},
     "output_type": "execute_result"
    }
   ],
   "source": [
    "kmer_counts.values().take(5)"
   ]
  },
  {
   "cell_type": "code",
   "execution_count": null,
   "metadata": {
    "collapsed": false
   },
   "outputs": [],
   "source": [
    "# kmer_dict = kmer_counts.collectAsMap()\n",
    "# kmer_dict.take(5)"
   ]
  },
  {
   "cell_type": "markdown",
   "metadata": {},
   "source": [
    "## Next, find the contigs by creating a graph and walking it.\n",
    "Note: The original source expects d = {'kmer':count}\n",
    "* Maybe build a dict in all_contigs then go forward?"
   ]
  },
  {
   "cell_type": "code",
   "execution_count": 24,
   "metadata": {
    "collapsed": true
   },
   "outputs": [],
   "source": [
    "def twin(km):\n",
    "#     complement = {'A': 'T', 'C': 'G', 'G': 'C', 'T': 'A'}\n",
    "    # return Seq.reverse_complement(km)\n",
    "    return \"\".join(complement.get(base, base) for base in reversed(km))\n"
   ]
  },
  {
   "cell_type": "code",
   "execution_count": 25,
   "metadata": {
    "collapsed": true
   },
   "outputs": [],
   "source": [
    "def fw(km):\n",
    "    for x in 'ACGT':\n",
    "        yield km[1:]+x\n",
    "\n",
    "def bw(km):\n",
    "    for x in 'ACGT':\n",
    "        yield x + km[:-1]"
   ]
  },
  {
   "cell_type": "code",
   "execution_count": 21,
   "metadata": {
    "collapsed": true
   },
   "outputs": [],
   "source": [
    "def contig_to_string(c):\n",
    "    return c[0] + ''.join(x[-1] for x in c[1:])\n",
    "\n",
    "def get_contig(d,km):\n",
    "    '''\n",
    "    Find kmer's contig.\n",
    "    Return: the string, list of kmers in contig\n",
    "    '''\n",
    "    c_fw = get_contig_forward(d,km)\n",
    "\n",
    "    c_bw = get_contig_forward(d,twin(km))\n",
    "\n",
    "    if km in fw(c_fw[-1]):\n",
    "        c = c_fw\n",
    "    else:\n",
    "        c = [twin(x) for x in c_bw[-1:0:-1]] + c_fw\n",
    "    return contig_to_string(c),c\n",
    "\n",
    "\n",
    "def get_contig_forward(d,km):\n",
    "    c_fw = [km]\n",
    "\n",
    "    while True:\n",
    "        if sum(x in d for x in fw(c_fw[-1])) != 1:\n",
    "            break\n",
    "\n",
    "        cand = [x for x in fw(c_fw[-1]) if x in d][0]\n",
    "        if cand == km or cand == twin(km):\n",
    "            break # break out of cycles or mobius contigs\n",
    "        if cand == twin(c_fw[-1]):\n",
    "            break # break out of hairpins\n",
    "\n",
    "        if sum(x in d for x in bw(cand)) != 1:\n",
    "            break\n",
    "\n",
    "        c_fw.append(cand)\n",
    "\n",
    "    return c_fw\n",
    "\n",
    "def all_contigs(k_tuples):\n",
    "    d = dict(k_tuples)\n",
    "    done = set()\n",
    "    r = []\n",
    "    for x in d:\n",
    "        if x not in done:\n",
    "            s,c = get_contig(d,x)\n",
    "            for y in c:\n",
    "                done.add(y)\n",
    "                done.add(twin(y))\n",
    "            r.append(s)\n",
    "    return r\n",
    "\n",
    "# Code below is for putting the graph in GFA format\n",
    "# Could use it as part of a visualizer step: GFA -> .dot (for GraphViz)\n",
    "#     G = {}\n",
    "#     heads = {}\n",
    "#     tails = {}\n",
    "#     for i,x in enumerate(r):\n",
    "#         G[i] = ([],[])\n",
    "#         heads[x[:k]] = (i,'+')\n",
    "#         tails[twin(x[-k:])] = (i,'-')\n",
    "\n",
    "#     for i in G:\n",
    "#         x = r[i]\n",
    "#         for y in fw(x[-k:]):\n",
    "#             if y in heads:\n",
    "#                 G[i][0].append(heads[y])\n",
    "#             if y in tails:\n",
    "#                 G[i][0].append(tails[y])\n",
    "#         for z in fw(twin(x[:k])):\n",
    "#             if z in heads:\n",
    "#                 G[i][1].append(heads[z])\n",
    "#             if z in tails:\n",
    "#                 G[i][1].append(tails[z])\n",
    "\n",
    "#     return G,r\n",
    "\n"
   ]
  },
  {
   "cell_type": "code",
   "execution_count": 26,
   "metadata": {
    "collapsed": true
   },
   "outputs": [],
   "source": [
    "contigs = kmer_counts.mapPartitions(all_contigs)"
   ]
  },
  {
   "cell_type": "code",
   "execution_count": 27,
   "metadata": {
    "collapsed": false
   },
   "outputs": [
    {
     "data": {
      "text/plain": [
       "['CAAAACATCGCCATTAC',\n",
       " 'TACGAAATCATCATCAT',\n",
       " 'TTCTTACAAGATAGTCTTTTTT',\n",
       " 'AAATTCGAACTTTCGAA',\n",
       " 'TTGTTGATTTAACAGCTA']"
      ]
     },
     "execution_count": 27,
     "metadata": {},
     "output_type": "execute_result"
    }
   ],
   "source": [
    "contigs.take(5)"
   ]
  },
  {
   "cell_type": "code",
   "execution_count": 28,
   "metadata": {
    "collapsed": false
   },
   "outputs": [
    {
     "data": {
      "text/plain": [
       "97777"
      ]
     },
     "execution_count": 28,
     "metadata": {},
     "output_type": "execute_result"
    }
   ],
   "source": [
    "contigs.count()"
   ]
  },
  {
   "cell_type": "code",
   "execution_count": 29,
   "metadata": {
    "collapsed": false
   },
   "outputs": [
    {
     "data": {
      "text/plain": [
       "4"
      ]
     },
     "execution_count": 29,
     "metadata": {},
     "output_type": "execute_result"
    }
   ],
   "source": [
    "contigs.getNumPartitions()"
   ]
  },
  {
   "cell_type": "code",
   "execution_count": null,
   "metadata": {
    "collapsed": true
   },
   "outputs": [],
   "source": []
  }
 ],
 "metadata": {
  "anaconda-cloud": {},
  "kernelspec": {
   "display_name": "PySpark (Spark 2.0.1)",
   "language": "python",
   "name": "pyspark"
  },
  "language_info": {
   "codemirror_mode": {
    "name": "ipython",
    "version": 3
   },
   "file_extension": ".py",
   "mimetype": "text/x-python",
   "name": "python",
   "nbconvert_exporter": "python",
   "pygments_lexer": "ipython3",
   "version": "3.4.5"
  }
 },
 "nbformat": 4,
 "nbformat_minor": 0
}
