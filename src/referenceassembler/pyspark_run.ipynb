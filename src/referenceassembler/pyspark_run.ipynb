{
 "cells": [
  {
   "cell_type": "markdown",
   "metadata": {},
   "source": [
    "# PySpark\n",
    "* Familiar interface (map, reduce, take, fold, etc.)\n",
    "* Uses YARN and HDFS\n",
    "\n",
    "### Monitoring:\n",
    "    http://<driver-node>:4040\n",
    "    \n",
    "Assembler based on: \n",
    "    `https://pmelsted.wordpress.com/2013/11/23/naive-python-implementation-of-a-de-bruijn-graph/`"
   ]
  },
  {
   "cell_type": "code",
   "execution_count": null,
   "metadata": {
    "collapsed": true
   },
   "outputs": [],
   "source": [
    "#from pyspark import SparkContext\n",
    "import pyspark"
   ]
  },
  {
   "cell_type": "code",
   "execution_count": null,
   "metadata": {
    "collapsed": false
   },
   "outputs": [],
   "source": [
    "# sc.stop()"
   ]
  },
  {
   "cell_type": "code",
   "execution_count": null,
   "metadata": {
    "collapsed": false
   },
   "outputs": [],
   "source": [
    "# conf = pyspark.SparkConf()"
   ]
  },
  {
   "cell_type": "code",
   "execution_count": null,
   "metadata": {
    "collapsed": true
   },
   "outputs": [],
   "source": [
    "# conf.setMaster(\"yarn-client\")\n",
    "\n",
    "# conf.set('spark.driver.memory','4g')\n",
    "# conf.set('spark.executor.memory','8g')\n",
    "#conf.set('spark.executor.cores', '1')\n",
    "# conf.set('spark.shuffle.service.enabled','true')\n",
    "# conf.set('spark.dynamicAllocation.enabled','true')\n",
    "# conf.set('spark.dynamicAllocation.initialExecutors','2')\n",
    "# conf.set('spark.dynamicAllocation.minExecutors','2')"
   ]
  },
  {
   "cell_type": "code",
   "execution_count": null,
   "metadata": {
    "collapsed": true
   },
   "outputs": [],
   "source": [
    "# sc = pyspark.SparkContext(conf=conf)"
   ]
  },
  {
   "cell_type": "code",
   "execution_count": null,
   "metadata": {
    "collapsed": true
   },
   "outputs": [],
   "source": [
    "sc.defaultParallelism"
   ]
  },
  {
   "cell_type": "markdown",
   "metadata": {},
   "source": [
    "Data is stored internally in an RDD (Resilient Distributed Dataset)"
   ]
  },
  {
   "cell_type": "code",
   "execution_count": null,
   "metadata": {
    "collapsed": true
   },
   "outputs": [],
   "source": [
    "sc.defaultMinPartitions"
   ]
  },
  {
   "cell_type": "code",
   "execution_count": null,
   "metadata": {
    "collapsed": false
   },
   "outputs": [],
   "source": [
    "compliment = {'A': 'T', 'C': 'G', 'G': 'C', 'T': 'A'}"
   ]
  },
  {
   "cell_type": "code",
   "execution_count": null,
   "metadata": {
    "collapsed": false
   },
   "outputs": [],
   "source": []
  },
  {
   "cell_type": "code",
   "execution_count": null,
   "metadata": {
    "collapsed": true
   },
   "outputs": [],
   "source": [
    "raw_data = sc.textFile('hdfs://172.31.26.32:8020/genome/Ba10k.sim1.fq')\n",
    "raw_data.getNumPartitions()"
   ]
  },
  {
   "cell_type": "markdown",
   "metadata": {},
   "source": [
    "## fastq file parser"
   ]
  },
  {
   "cell_type": "code",
   "execution_count": null,
   "metadata": {
    "collapsed": true
   },
   "outputs": [],
   "source": [
    "data = raw_data.filter(lambda x: x[0] in ['A','C','G','T'] if len(x) > 0)"
   ]
  },
  {
   "cell_type": "code",
   "execution_count": null,
   "metadata": {
    "collapsed": false
   },
   "outputs": [],
   "source": [
    "k = 17"
   ]
  },
  {
   "cell_type": "markdown",
   "metadata": {},
   "source": [
    "## calculate list of kmers\n",
    "Both forward and the reverse complement."
   ]
  },
  {
   "cell_type": "code",
   "execution_count": null,
   "metadata": {
    "collapsed": true
   },
   "outputs": [],
   "source": [
    "fwd_list = data.flatMap(lambda x: [x[i:i+k] for i in range(len(x.rstrip())-k+1)])\n",
    "\n",
    "\n",
    "rev_comp = data.map(lambda x:''.join(reversed([complement.get(base, base) for base in x])))\n",
    "\n",
    "rev_list = rev_comp.flatMap(lambda x: [x[i:i+k] for i in range(len(x.rstrip())-k+1)])"
   ]
  },
  {
   "cell_type": "code",
   "execution_count": null,
   "metadata": {
    "collapsed": true
   },
   "outputs": [],
   "source": [
    "kmer_list = fwd_list + rev_list"
   ]
  },
  {
   "cell_type": "markdown",
   "metadata": {},
   "source": [
    "## now we need to coalesce them, like WordCount"
   ]
  },
  {
   "cell_type": "code",
   "execution_count": null,
   "metadata": {
    "collapsed": false
   },
   "outputs": [],
   "source": []
  },
  {
   "cell_type": "code",
   "execution_count": null,
   "metadata": {
    "collapsed": true
   },
   "outputs": [],
   "source": [
    "emitter = kmer_list.map(lambda x: (x, 1))"
   ]
  },
  {
   "cell_type": "code",
   "execution_count": null,
   "metadata": {
    "collapsed": true
   },
   "outputs": [],
   "source": [
    "emitter.take(5)"
   ]
  },
  {
   "cell_type": "code",
   "execution_count": null,
   "metadata": {
    "collapsed": true
   },
   "outputs": [],
   "source": [
    "kmer_counts = emitter.reduceByKey(lambda x, y: x+y)\n",
    "# kmer_counts.take(10)"
   ]
  },
  {
   "cell_type": "code",
   "execution_count": null,
   "metadata": {
    "collapsed": true
   },
   "outputs": [],
   "source": [
    "kmer_counts.count()"
   ]
  },
  {
   "cell_type": "code",
   "execution_count": null,
   "metadata": {
    "collapsed": true
   },
   "outputs": [],
   "source": [
    "kmer_counts.keys().take(5)"
   ]
  },
  {
   "cell_type": "code",
   "execution_count": null,
   "metadata": {
    "collapsed": true
   },
   "outputs": [],
   "source": [
    "kmer_counts.values().take(5)"
   ]
  },
  {
   "cell_type": "code",
   "execution_count": null,
   "metadata": {
    "collapsed": true
   },
   "outputs": [],
   "source": [
    "# kmer_dict = kmer_counts.collectAsMap()\n",
    "# kmer_dict.take(5)"
   ]
  },
  {
   "cell_type": "markdown",
   "metadata": {},
   "source": [
    "## Next, find the contigs by creating a graph and walking it.\n",
    "Note: The original source expects d = {'kmer':count}\n",
    "* Maybe build a dict in all_contigs then go forward?"
   ]
  },
  {
   "cell_type": "code",
   "execution_count": null,
   "metadata": {
    "collapsed": true
   },
   "outputs": [],
   "source": [
    "def twin(km):\n",
    "    compliment = {'A': 'T', 'C': 'G', 'G': 'C', 'T': 'A'}\n",
    "    # return Seq.reverse_complement(km)\n",
    "    return \"\".join(compliment.get(base, base) for base in reversed(km))\n"
   ]
  },
  {
   "cell_type": "code",
   "execution_count": null,
   "metadata": {
    "collapsed": false
   },
   "outputs": [],
   "source": [
    "def fw(km):\n",
    "    for x in 'ACGT':\n",
    "        yield km[1:]+x\n",
    "\n",
    "def bw(km):\n",
    "    for x in 'ACGT':\n",
    "        yield x + km[:-1]"
   ]
  },
  {
   "cell_type": "code",
   "execution_count": null,
   "metadata": {
    "collapsed": false
   },
   "outputs": [],
   "source": [
    "def contig_to_string(c):\n",
    "    return c[0] + ''.join(x[-1] for x in c[1:])\n",
    "\n",
    "def get_contig(d,km):\n",
    "    '''\n",
    "    Find kmer's contig.\n",
    "    Return: the string, list of kmers in contig\n",
    "    '''\n",
    "    c_fw = get_contig_forward(d,km)\n",
    "\n",
    "    c_bw = get_contig_forward(d,twin(km))\n",
    "\n",
    "    if km in fw(c_fw[-1]):\n",
    "        c = c_fw\n",
    "    else:\n",
    "        c = [twin(x) for x in c_bw[-1:0:-1]] + c_fw\n",
    "    return contig_to_string(c),c\n",
    "\n",
    "\n",
    "def get_contig_forward(d,km):\n",
    "    c_fw = [km]\n",
    "\n",
    "    while True:\n",
    "        if sum(x in d for x in fw(c_fw[-1])) != 1:\n",
    "            break\n",
    "\n",
    "        cand = [x for x in fw(c_fw[-1]) if x in d][0]\n",
    "        if cand == km or cand == twin(km):\n",
    "            break # break out of cycles or mobius contigs\n",
    "        if cand == twin(c_fw[-1]):\n",
    "            break # break out of hairpins\n",
    "\n",
    "        if sum(x in d for x in bw(cand)) != 1:\n",
    "            break\n",
    "\n",
    "        c_fw.append(cand)\n",
    "\n",
    "    return c_fw\n",
    "\n",
    "def all_contigs(k_tuples):\n",
    "    d = dict(k_tuples)\n",
    "    done = set()\n",
    "    r = []\n",
    "    for x in d:\n",
    "        if x not in done:\n",
    "            s,c = get_contig(d,x)\n",
    "            for y in c:\n",
    "                done.add(y)\n",
    "                done.add(twin(y))\n",
    "            r.append(s)\n",
    "    return r\n",
    "\n",
    "# Code below is for putting the graph in GFA format\n",
    "# Could use it as part of a visualizer step: GFA -> .dot (for GraphViz)\n",
    "#     G = {}\n",
    "#     heads = {}\n",
    "#     tails = {}\n",
    "#     for i,x in enumerate(r):\n",
    "#         G[i] = ([],[])\n",
    "#         heads[x[:k]] = (i,'+')\n",
    "#         tails[twin(x[-k:])] = (i,'-')\n",
    "\n",
    "#     for i in G:\n",
    "#         x = r[i]\n",
    "#         for y in fw(x[-k:]):\n",
    "#             if y in heads:\n",
    "#                 G[i][0].append(heads[y])\n",
    "#             if y in tails:\n",
    "#                 G[i][0].append(tails[y])\n",
    "#         for z in fw(twin(x[:k])):\n",
    "#             if z in heads:\n",
    "#                 G[i][1].append(heads[z])\n",
    "#             if z in tails:\n",
    "#                 G[i][1].append(tails[z])\n",
    "\n",
    "#     return G,r\n",
    "\n"
   ]
  },
  {
   "cell_type": "code",
   "execution_count": null,
   "metadata": {
    "collapsed": true
   },
   "outputs": [],
   "source": [
    "%time contigs = kmer_counts.mapPartitions(all_contigs).collect()"
   ]
  },
  {
   "cell_type": "code",
   "execution_count": null,
   "metadata": {
    "collapsed": true
   },
   "outputs": [],
   "source": [
    "contigs[:5]"
   ]
  },
  {
   "cell_type": "code",
   "execution_count": null,
   "metadata": {
    "collapsed": true
   },
   "outputs": [],
   "source": [
    "contigs.count()"
   ]
  },
  {
   "cell_type": "code",
   "execution_count": null,
   "metadata": {
    "collapsed": true
   },
   "outputs": [],
   "source": [
    "contigs.getNumPartitions()"
   ]
  },
  {
   "cell_type": "markdown",
   "metadata": {
    "collapsed": true
   },
   "source": [
    "## Now let's try a bigger data set"
   ]
  },
  {
   "cell_type": "code",
   "execution_count": null,
   "metadata": {
    "collapsed": true
   },
   "outputs": [],
   "source": [
    "raw_data = sc.textFile('hdfs://172.31.26.32:8020/genome/sra_data.fastq', 100)\n",
    "raw_data.getNumPartitions()"
   ]
  },
  {
   "cell_type": "code",
   "execution_count": null,
   "metadata": {
    "collapsed": false
   },
   "outputs": [],
   "source": [
    "k = 21"
   ]
  },
  {
   "cell_type": "code",
   "execution_count": null,
   "metadata": {
    "collapsed": true
   },
   "outputs": [],
   "source": [
    "data = raw_data.filter(lambda x: len(x) > 0 and x[0] in ['A','C','G','T'] )"
   ]
  },
  {
   "cell_type": "code",
   "execution_count": null,
   "metadata": {
    "collapsed": true
   },
   "outputs": [],
   "source": [
    "fwd_list = data.flatMap(lambda x: [x[i:i+k] for i in range(len(x.rstrip())-k+1)])\n",
    "\n",
    "\n",
    "rev_comp = data.map(lambda x:''.join(reversed([compliment.get(base, base) for base in x])))\n",
    "\n",
    "rev_list = rev_comp.flatMap(lambda x: [x[i:i+k] for i in range(len(x.rstrip())-k+1)])"
   ]
  },
  {
   "cell_type": "code",
   "execution_count": null,
   "metadata": {
    "collapsed": false
   },
   "outputs": [],
   "source": [
    "kmer_list = fwd_list + rev_list\n",
    "emitter = kmer_list.map(lambda x: (x, 1))\n",
    "kmer_counts = emitter.reduceByKey(lambda x, y: x+y)\n"
   ]
  },
  {
   "cell_type": "code",
   "execution_count": null,
   "metadata": {
    "collapsed": true
   },
   "outputs": [],
   "source": [
    "%%time\n",
    "contigs = kmer_counts.mapPartitions(all_contigs)\n",
    "contigs.saveAsTextFile('hdfs://172.31.26.32:8020/genome/sra_output')"
   ]
  },
  {
   "cell_type": "markdown",
   "metadata": {},
   "source": [
    "## Now for the really big data set\n",
    "And let's try to chain it, like the big boys do..."
   ]
  },
  {
   "cell_type": "code",
   "execution_count": null,
   "metadata": {
    "collapsed": true
   },
   "outputs": [],
   "source": [
    "raw_data = sc.textFile('hdfs://172.31.26.32:8020/genome/Ecoli-RR359304-2.fastq',500)\n",
    "raw_data.getNumPartitions()"
   ]
  },
  {
   "cell_type": "code",
   "execution_count": null,
   "metadata": {
    "collapsed": false
   },
   "outputs": [],
   "source": [
    "k = 21"
   ]
  },
  {
   "cell_type": "code",
   "execution_count": null,
   "metadata": {
    "collapsed": false
   },
   "outputs": [],
   "source": [
    "data = raw_data.filter(lambda x: len(x) > 0 and x[0] in ['A','C','G','T'] )"
   ]
  },
  {
   "cell_type": "code",
   "execution_count": null,
   "metadata": {
    "collapsed": false
   },
   "outputs": [],
   "source": [
    "fwd_list = data.flatMap(lambda x: [x[i:i+k] for i in range(len(x.rstrip())-k+1)])\n",
    "rev_comp = data.map(lambda x:''.join(reversed([compliment.get(base, base) for base in x])))\n",
    "rev_list = rev_comp.flatMap(lambda x: [x[i:i+k] for i in range(len(x.rstrip())-k+1)])"
   ]
  },
  {
   "cell_type": "code",
   "execution_count": null,
   "metadata": {
    "collapsed": false
   },
   "outputs": [],
   "source": [
    "kmer_list = fwd_list + rev_list\n",
    "emitter = kmer_list.map(lambda x: (x, 1))\n",
    "kmer_counts = emitter.reduceByKey(lambda x, y: x+y)"
   ]
  },
  {
   "cell_type": "code",
   "execution_count": null,
   "metadata": {
    "collapsed": true
   },
   "outputs": [],
   "source": [
    "# %%time\n",
    "contigs = kmer_counts.mapPartitions(all_contigs)\n",
    "contigs.saveAsTextFile('hdfs://172.31.26.32:8020/genome/ecoli_output')"
   ]
  },
  {
   "cell_type": "code",
   "execution_count": null,
   "metadata": {
    "collapsed": false
   },
   "outputs": [],
   "source": []
  }
 ],
 "metadata": {
  "anaconda-cloud": {},
  "kernelspec": {
   "display_name": "PySpark (Spark 1.6.1)",
   "language": "python",
   "name": "pyspark"
  },
  "language_info": {
   "codemirror_mode": {
    "name": "ipython",
    "version": 3
   },
   "file_extension": ".py",
   "mimetype": "text/x-python",
   "name": "python",
   "nbconvert_exporter": "python",
   "pygments_lexer": "ipython3",
   "version": "3.5.2"
  }
 },
 "nbformat": 4,
 "nbformat_minor": 0
}
