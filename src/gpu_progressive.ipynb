{
 "cells": [
  {
   "cell_type": "markdown",
   "metadata": {},
   "source": [
    "# Progressive read size evaluation\n",
    "\n",
    "### Using the 2.2GB sra_data.fastq data file.\n",
    "We know we can do 10k reads so let's take progressively larger number of reads to show a progression of processing time."
   ]
  },
  {
   "cell_type": "code",
   "execution_count": 1,
   "metadata": {
    "collapsed": true
   },
   "outputs": [],
   "source": [
    "from pyspark import SparkContext"
   ]
  },
  {
   "cell_type": "code",
   "execution_count": 2,
   "metadata": {
    "collapsed": true
   },
   "outputs": [],
   "source": [
    "import subprocess\n",
    "import os"
   ]
  },
  {
   "cell_type": "code",
   "execution_count": 3,
   "metadata": {
    "collapsed": true
   },
   "outputs": [],
   "source": [
    "import eulercuda as ec"
   ]
  },
  {
   "cell_type": "code",
   "execution_count": 4,
   "metadata": {
    "collapsed": true
   },
   "outputs": [],
   "source": [
    "import pycuda.driver\n",
    "import pycuda.autoinit"
   ]
  },
  {
   "cell_type": "code",
   "execution_count": 5,
   "metadata": {
    "collapsed": true
   },
   "outputs": [],
   "source": [
    "from collections import OrderedDict"
   ]
  },
  {
   "cell_type": "code",
   "execution_count": null,
   "metadata": {
    "collapsed": false
   },
   "outputs": [],
   "source": [
    "from bokeh.io import output_notebook, output_file, show\n",
    "from bokeh.plotting import figure\n"
   ]
  },
  {
   "cell_type": "code",
   "execution_count": 7,
   "metadata": {
    "collapsed": true
   },
   "outputs": [],
   "source": [
    "datafile = '/home/ubuntu/genome/sra_clean'"
   ]
  },
  {
   "cell_type": "code",
   "execution_count": 8,
   "metadata": {
    "collapsed": false
   },
   "outputs": [
    {
     "data": {
      "text/html": [
       "\n",
       "    <div class=\"bk-root\">\n",
       "        <a href=\"http://bokeh.pydata.org\" target=\"_blank\" class=\"bk-logo bk-logo-small bk-logo-notebook\"></a>\n",
       "        <span id=\"a3a2d10a-aa74-4f3f-b826-49516a2e18ab\">Loading BokehJS ...</span>\n",
       "    </div>"
      ]
     },
     "metadata": {},
     "output_type": "display_data"
    },
    {
     "data": {
      "application/javascript": [
       "\n",
       "(function(global) {\n",
       "  function now() {\n",
       "    return new Date();\n",
       "  }\n",
       "\n",
       "  var force = \"1\";\n",
       "\n",
       "  if (typeof (window._bokeh_onload_callbacks) === \"undefined\" || force !== \"\") {\n",
       "    window._bokeh_onload_callbacks = [];\n",
       "    window._bokeh_is_loading = undefined;\n",
       "  }\n",
       "\n",
       "\n",
       "  \n",
       "  if (typeof (window._bokeh_timeout) === \"undefined\" || force !== \"\") {\n",
       "    window._bokeh_timeout = Date.now() + 5000;\n",
       "    window._bokeh_failed_load = false;\n",
       "  }\n",
       "\n",
       "  var NB_LOAD_WARNING = {'data': {'text/html':\n",
       "     \"<div style='background-color: #fdd'>\\n\"+\n",
       "     \"<p>\\n\"+\n",
       "     \"BokehJS does not appear to have successfully loaded. If loading BokehJS from CDN, this \\n\"+\n",
       "     \"may be due to a slow or bad network connection. Possible fixes:\\n\"+\n",
       "     \"</p>\\n\"+\n",
       "     \"<ul>\\n\"+\n",
       "     \"<li>re-rerun `output_notebook()` to attempt to load from CDN again, or</li>\\n\"+\n",
       "     \"<li>use INLINE resources instead, as so:</li>\\n\"+\n",
       "     \"</ul>\\n\"+\n",
       "     \"<code>\\n\"+\n",
       "     \"from bokeh.resources import INLINE\\n\"+\n",
       "     \"output_notebook(resources=INLINE)\\n\"+\n",
       "     \"</code>\\n\"+\n",
       "     \"</div>\"}};\n",
       "\n",
       "  function display_loaded() {\n",
       "    if (window.Bokeh !== undefined) {\n",
       "      Bokeh.$(\"#a3a2d10a-aa74-4f3f-b826-49516a2e18ab\").text(\"BokehJS successfully loaded.\");\n",
       "    } else if (Date.now() < window._bokeh_timeout) {\n",
       "      setTimeout(display_loaded, 100)\n",
       "    }\n",
       "  }\n",
       "\n",
       "  function run_callbacks() {\n",
       "    window._bokeh_onload_callbacks.forEach(function(callback) { callback() });\n",
       "    delete window._bokeh_onload_callbacks\n",
       "    console.info(\"Bokeh: all callbacks have finished\");\n",
       "  }\n",
       "\n",
       "  function load_libs(js_urls, callback) {\n",
       "    window._bokeh_onload_callbacks.push(callback);\n",
       "    if (window._bokeh_is_loading > 0) {\n",
       "      console.log(\"Bokeh: BokehJS is being loaded, scheduling callback at\", now());\n",
       "      return null;\n",
       "    }\n",
       "    if (js_urls == null || js_urls.length === 0) {\n",
       "      run_callbacks();\n",
       "      return null;\n",
       "    }\n",
       "    console.log(\"Bokeh: BokehJS not loaded, scheduling load and callback at\", now());\n",
       "    window._bokeh_is_loading = js_urls.length;\n",
       "    for (var i = 0; i < js_urls.length; i++) {\n",
       "      var url = js_urls[i];\n",
       "      var s = document.createElement('script');\n",
       "      s.src = url;\n",
       "      s.async = false;\n",
       "      s.onreadystatechange = s.onload = function() {\n",
       "        window._bokeh_is_loading--;\n",
       "        if (window._bokeh_is_loading === 0) {\n",
       "          console.log(\"Bokeh: all BokehJS libraries loaded\");\n",
       "          run_callbacks()\n",
       "        }\n",
       "      };\n",
       "      s.onerror = function() {\n",
       "        console.warn(\"failed to load library \" + url);\n",
       "      };\n",
       "      console.log(\"Bokeh: injecting script tag for BokehJS library: \", url);\n",
       "      document.getElementsByTagName(\"head\")[0].appendChild(s);\n",
       "    }\n",
       "  };var element = document.getElementById(\"a3a2d10a-aa74-4f3f-b826-49516a2e18ab\");\n",
       "  if (element == null) {\n",
       "    console.log(\"Bokeh: ERROR: autoload.js configured with elementid 'a3a2d10a-aa74-4f3f-b826-49516a2e18ab' but no matching script tag was found. \")\n",
       "    return false;\n",
       "  }\n",
       "\n",
       "  var js_urls = ['https://cdn.pydata.org/bokeh/release/bokeh-0.12.2.min.js', 'https://cdn.pydata.org/bokeh/release/bokeh-widgets-0.12.2.min.js', 'https://cdn.pydata.org/bokeh/release/bokeh-compiler-0.12.2.min.js'];\n",
       "\n",
       "  var inline_js = [\n",
       "    function(Bokeh) {\n",
       "      Bokeh.set_log_level(\"info\");\n",
       "    },\n",
       "    \n",
       "    function(Bokeh) {\n",
       "      \n",
       "      Bokeh.$(\"#a3a2d10a-aa74-4f3f-b826-49516a2e18ab\").text(\"BokehJS is loading...\");\n",
       "    },\n",
       "    function(Bokeh) {\n",
       "      console.log(\"Bokeh: injecting CSS: https://cdn.pydata.org/bokeh/release/bokeh-0.12.2.min.css\");\n",
       "      Bokeh.embed.inject_css(\"https://cdn.pydata.org/bokeh/release/bokeh-0.12.2.min.css\");\n",
       "      console.log(\"Bokeh: injecting CSS: https://cdn.pydata.org/bokeh/release/bokeh-widgets-0.12.2.min.css\");\n",
       "      Bokeh.embed.inject_css(\"https://cdn.pydata.org/bokeh/release/bokeh-widgets-0.12.2.min.css\");\n",
       "    }\n",
       "  ];\n",
       "\n",
       "  function run_inline_js() {\n",
       "    \n",
       "    if ((window.Bokeh !== undefined) || (force === \"1\")) {\n",
       "      for (var i = 0; i < inline_js.length; i++) {\n",
       "        inline_js[i](window.Bokeh);\n",
       "      }if (force === \"1\") {\n",
       "        display_loaded();\n",
       "      }} else if (Date.now() < window._bokeh_timeout) {\n",
       "      setTimeout(run_inline_js, 100);\n",
       "    } else if (!window._bokeh_failed_load) {\n",
       "      console.log(\"Bokeh: BokehJS failed to load within specified timeout.\");\n",
       "      window._bokeh_failed_load = true;\n",
       "    } else if (!force) {\n",
       "      var cell = $(\"#a3a2d10a-aa74-4f3f-b826-49516a2e18ab\").parents('.cell').data().cell;\n",
       "      cell.output_area.append_execute_result(NB_LOAD_WARNING)\n",
       "    }\n",
       "\n",
       "  }\n",
       "\n",
       "  if (window._bokeh_is_loading === 0) {\n",
       "    console.log(\"Bokeh: BokehJS loaded, going straight to plotting\");\n",
       "    run_inline_js();\n",
       "  } else {\n",
       "    load_libs(js_urls, function() {\n",
       "      console.log(\"Bokeh: BokehJS plotting callback run at\", now());\n",
       "      run_inline_js();\n",
       "    });\n",
       "  }\n",
       "}(this));"
      ]
     },
     "metadata": {},
     "output_type": "display_data"
    }
   ],
   "source": [
    "output_notebook()\n",
    "# output_file(\"results.html\")"
   ]
  },
  {
   "cell_type": "code",
   "execution_count": 9,
   "metadata": {
    "collapsed": true
   },
   "outputs": [],
   "source": [
    "def make_dataset(read_size):\n",
    "    dataset = []\n",
    "    with open (datafile, 'r') as infile:\n",
    "        for i in range(read_size):\n",
    "            line = infile.readline().rstrip()\n",
    "            if 'N' not in line:\n",
    "                dataset.append(line)\n",
    "    return dataset"
   ]
  },
  {
   "cell_type": "code",
   "execution_count": 10,
   "metadata": {
    "collapsed": true
   },
   "outputs": [],
   "source": [
    "def hail_mary(path, data):\n",
    "    import eulercuda.eulercuda as ec\n",
    "    subprocess.call([\"hdfs\", \"dfs\", \"-rm\", \"-r\", \"-f\", '/genome/' + path])\n",
    "    hail_mary = data.mapPartitions(lambda x: ec.assemble2(k, buffer=x, readLength = dataLength,readCount=dataCount)) \\\n",
    "        .saveAsTextFile('hdfs://172.31.26.32/genome/' + path)"
   ]
  },
  {
   "cell_type": "code",
   "execution_count": 11,
   "metadata": {
    "collapsed": false
   },
   "outputs": [],
   "source": [
    "timing_data = OrderedDict()\n",
    "increment = 5000\n",
    "read_size = 5000\n",
    "dataset = []"
   ]
  },
  {
   "cell_type": "code",
   "execution_count": 15,
   "metadata": {
    "collapsed": false
   },
   "outputs": [
    {
     "name": "stdout",
     "output_type": "stream",
     "text": [
      "1 loop, best of 5: 23.6 s per loop\n",
      "40000 23.575782978999996\n",
      "\n",
      "1 loop, best of 5: 29.6 s per loop\n",
      "45000 29.55098228299994\n",
      "\n",
      "1 loop, best of 5: 30 s per loop\n",
      "50000 29.988303688000087\n",
      "\n",
      "1 loop, best of 5: 30.6 s per loop\n",
      "55000 30.58005624999987\n",
      "\n",
      "1 loop, best of 5: 35.3 s per loop\n",
      "60000 35.32120414399924\n",
      "\n",
      "1 loop, best of 5: 36.9 s per loop\n",
      "65000 36.94936921599947\n",
      "\n",
      "1 loop, best of 5: 37.5 s per loop\n",
      "70000 37.49704381799984\n",
      "\n",
      "1 loop, best of 5: 43.5 s per loop\n",
      "75000 43.49610917800055\n",
      "\n",
      "1 loop, best of 5: 44.1 s per loop\n",
      "80000 44.06622747599977\n",
      "\n",
      "1 loop, best of 5: 45.2 s per loop\n",
      "85000 45.24880558199948\n",
      "\n",
      "Failure at 90000\n"
     ]
    }
   ],
   "source": [
    "k = 17\n",
    "lmerLength = 18\n",
    "run_ok = True\n",
    "while run_ok:\n",
    "    dataset = make_dataset(read_size)\n",
    "    dataLength = len(dataset[0])\n",
    "    rdd_data = sc.parallelize(dataset, (read_size // 2000))\n",
    "    dataCount = rdd_data.count() // rdd_data.getNumPartitions()\n",
    "    try:\n",
    "        time = %timeit -o -r 5 hail_mary('ec'+str(read_size)[:2]+'k_output',rdd_data)\n",
    "    except:\n",
    "        print('Failure at '+ str(read_size), flush=True)\n",
    "        run_ok = False\n",
    "    if run_ok:\n",
    "        timing_data[read_size] = time\n",
    "        print(read_size,time.best, flush=True)\n",
    "        print()\n",
    "        read_size += increment"
   ]
  },
  {
   "cell_type": "code",
   "execution_count": 16,
   "metadata": {
    "collapsed": false
   },
   "outputs": [
    {
     "data": {
      "text/plain": [
       "odict_keys([5000, 10000, 15000, 20000, 25000, 30000, 35000, 40000, 45000, 50000, 55000, 60000, 65000, 70000, 75000, 80000, 85000])"
      ]
     },
     "execution_count": 16,
     "metadata": {},
     "output_type": "execute_result"
    }
   ],
   "source": [
    "timing_data.keys()"
   ]
  },
  {
   "cell_type": "code",
   "execution_count": null,
   "metadata": {
    "collapsed": false
   },
   "outputs": [],
   "source": []
  },
  {
   "cell_type": "code",
   "execution_count": 29,
   "metadata": {
    "collapsed": false
   },
   "outputs": [],
   "source": [
    "upper_limit = next(reversed(timing_data))"
   ]
  },
  {
   "cell_type": "code",
   "execution_count": 18,
   "metadata": {
    "collapsed": false
   },
   "outputs": [],
   "source": [
    "run_times = [v.best for v in timing_data.values()]\n",
    "read_sizes = [k//1000 for k in timing_data.keys()]"
   ]
  },
  {
   "cell_type": "code",
   "execution_count": 19,
   "metadata": {
    "collapsed": false
   },
   "outputs": [
    {
     "data": {
      "text/plain": [
       "[5, 10, 15, 20, 25, 30, 35, 40, 45, 50, 55, 60, 65, 70, 75, 80, 85]"
      ]
     },
     "execution_count": 19,
     "metadata": {},
     "output_type": "execute_result"
    }
   ],
   "source": [
    "read_sizes"
   ]
  },
  {
   "cell_type": "code",
   "execution_count": 20,
   "metadata": {
    "collapsed": false
   },
   "outputs": [
    {
     "data": {
      "text/plain": [
       "[11.267709831000047,\n",
       " 9.818606054000156,\n",
       " 10.435634698000285,\n",
       " 15.91144412299991,\n",
       " 17.07000417299969,\n",
       " 21.101019450999956,\n",
       " 23.40265847699993,\n",
       " 23.575782978999996,\n",
       " 29.55098228299994,\n",
       " 29.988303688000087,\n",
       " 30.58005624999987,\n",
       " 35.32120414399924,\n",
       " 36.94936921599947,\n",
       " 37.49704381799984,\n",
       " 43.49610917800055,\n",
       " 44.06622747599977,\n",
       " 45.24880558199948]"
      ]
     },
     "execution_count": 20,
     "metadata": {},
     "output_type": "execute_result"
    }
   ],
   "source": [
    "run_times"
   ]
  },
  {
   "cell_type": "code",
   "execution_count": 22,
   "metadata": {
    "collapsed": false
   },
   "outputs": [
    {
     "data": {
      "text/html": [
       "\n",
       "\n",
       "    <div class=\"bk-root\">\n",
       "        <div class=\"plotdiv\" id=\"d93211e3-b48d-484a-adf4-80d8def0fdbb\"></div>\n",
       "    </div>\n",
       "<script type=\"text/javascript\">\n",
       "  \n",
       "  (function(global) {\n",
       "    function now() {\n",
       "      return new Date();\n",
       "    }\n",
       "  \n",
       "    var force = \"\";\n",
       "  \n",
       "    if (typeof (window._bokeh_onload_callbacks) === \"undefined\" || force !== \"\") {\n",
       "      window._bokeh_onload_callbacks = [];\n",
       "      window._bokeh_is_loading = undefined;\n",
       "    }\n",
       "  \n",
       "  \n",
       "    \n",
       "    if (typeof (window._bokeh_timeout) === \"undefined\" || force !== \"\") {\n",
       "      window._bokeh_timeout = Date.now() + 0;\n",
       "      window._bokeh_failed_load = false;\n",
       "    }\n",
       "  \n",
       "    var NB_LOAD_WARNING = {'data': {'text/html':\n",
       "       \"<div style='background-color: #fdd'>\\n\"+\n",
       "       \"<p>\\n\"+\n",
       "       \"BokehJS does not appear to have successfully loaded. If loading BokehJS from CDN, this \\n\"+\n",
       "       \"may be due to a slow or bad network connection. Possible fixes:\\n\"+\n",
       "       \"</p>\\n\"+\n",
       "       \"<ul>\\n\"+\n",
       "       \"<li>re-rerun `output_notebook()` to attempt to load from CDN again, or</li>\\n\"+\n",
       "       \"<li>use INLINE resources instead, as so:</li>\\n\"+\n",
       "       \"</ul>\\n\"+\n",
       "       \"<code>\\n\"+\n",
       "       \"from bokeh.resources import INLINE\\n\"+\n",
       "       \"output_notebook(resources=INLINE)\\n\"+\n",
       "       \"</code>\\n\"+\n",
       "       \"</div>\"}};\n",
       "  \n",
       "    function display_loaded() {\n",
       "      if (window.Bokeh !== undefined) {\n",
       "        Bokeh.$(\"#d93211e3-b48d-484a-adf4-80d8def0fdbb\").text(\"BokehJS successfully loaded.\");\n",
       "      } else if (Date.now() < window._bokeh_timeout) {\n",
       "        setTimeout(display_loaded, 100)\n",
       "      }\n",
       "    }\n",
       "  \n",
       "    function run_callbacks() {\n",
       "      window._bokeh_onload_callbacks.forEach(function(callback) { callback() });\n",
       "      delete window._bokeh_onload_callbacks\n",
       "      console.info(\"Bokeh: all callbacks have finished\");\n",
       "    }\n",
       "  \n",
       "    function load_libs(js_urls, callback) {\n",
       "      window._bokeh_onload_callbacks.push(callback);\n",
       "      if (window._bokeh_is_loading > 0) {\n",
       "        console.log(\"Bokeh: BokehJS is being loaded, scheduling callback at\", now());\n",
       "        return null;\n",
       "      }\n",
       "      if (js_urls == null || js_urls.length === 0) {\n",
       "        run_callbacks();\n",
       "        return null;\n",
       "      }\n",
       "      console.log(\"Bokeh: BokehJS not loaded, scheduling load and callback at\", now());\n",
       "      window._bokeh_is_loading = js_urls.length;\n",
       "      for (var i = 0; i < js_urls.length; i++) {\n",
       "        var url = js_urls[i];\n",
       "        var s = document.createElement('script');\n",
       "        s.src = url;\n",
       "        s.async = false;\n",
       "        s.onreadystatechange = s.onload = function() {\n",
       "          window._bokeh_is_loading--;\n",
       "          if (window._bokeh_is_loading === 0) {\n",
       "            console.log(\"Bokeh: all BokehJS libraries loaded\");\n",
       "            run_callbacks()\n",
       "          }\n",
       "        };\n",
       "        s.onerror = function() {\n",
       "          console.warn(\"failed to load library \" + url);\n",
       "        };\n",
       "        console.log(\"Bokeh: injecting script tag for BokehJS library: \", url);\n",
       "        document.getElementsByTagName(\"head\")[0].appendChild(s);\n",
       "      }\n",
       "    };var element = document.getElementById(\"d93211e3-b48d-484a-adf4-80d8def0fdbb\");\n",
       "    if (element == null) {\n",
       "      console.log(\"Bokeh: ERROR: autoload.js configured with elementid 'd93211e3-b48d-484a-adf4-80d8def0fdbb' but no matching script tag was found. \")\n",
       "      return false;\n",
       "    }\n",
       "  \n",
       "    var js_urls = [];\n",
       "  \n",
       "    var inline_js = [\n",
       "      function(Bokeh) {\n",
       "        Bokeh.$(function() {\n",
       "            var docs_json = {\"47fa9f83-5434-4903-bd1c-3bd315464226\":{\"roots\":{\"references\":[{\"attributes\":{\"overlay\":{\"id\":\"12ae0f97-24ed-4bfe-910d-50dc2ab879a5\",\"type\":\"BoxAnnotation\"},\"plot\":{\"id\":\"066f14dd-8601-48d1-94d2-05b344571548\",\"subtype\":\"Figure\",\"type\":\"Plot\"}},\"id\":\"b74972ae-f36b-449e-8b01-96c27bf6a0c8\",\"type\":\"BoxZoomTool\"},{\"attributes\":{\"bottom_units\":\"screen\",\"fill_alpha\":{\"value\":0.5},\"fill_color\":{\"value\":\"lightgrey\"},\"left_units\":\"screen\",\"level\":\"overlay\",\"line_alpha\":{\"value\":1.0},\"line_color\":{\"value\":\"black\"},\"line_dash\":[4,4],\"line_width\":{\"value\":2},\"plot\":null,\"render_mode\":\"css\",\"right_units\":\"screen\",\"top_units\":\"screen\"},\"id\":\"12ae0f97-24ed-4bfe-910d-50dc2ab879a5\",\"type\":\"BoxAnnotation\"},{\"attributes\":{\"data_source\":{\"id\":\"24e720d3-ff26-496b-bf97-d2b38454227e\",\"type\":\"ColumnDataSource\"},\"glyph\":{\"id\":\"84643650-3040-4ab8-b082-f35bae770029\",\"type\":\"Line\"},\"hover_glyph\":null,\"nonselection_glyph\":{\"id\":\"7108f0ff-a5cf-4489-8abd-dc80db1de89e\",\"type\":\"Line\"},\"selection_glyph\":null},\"id\":\"2c5ce39f-f37a-4e10-bb9f-14a7165c0c59\",\"type\":\"GlyphRenderer\"},{\"attributes\":{\"plot\":{\"id\":\"066f14dd-8601-48d1-94d2-05b344571548\",\"subtype\":\"Figure\",\"type\":\"Plot\"}},\"id\":\"94deb288-f6ff-4ac9-bd12-a35130534d72\",\"type\":\"ResetTool\"},{\"attributes\":{\"plot\":{\"id\":\"066f14dd-8601-48d1-94d2-05b344571548\",\"subtype\":\"Figure\",\"type\":\"Plot\"}},\"id\":\"8c0a5e8a-b8b7-44dd-9158-867f573dcec3\",\"type\":\"HelpTool\"},{\"attributes\":{\"plot\":null,\"text\":\"GPU Assisted Assembly\"},\"id\":\"6b9c6b79-d199-4430-aa14-7e1f7472ee34\",\"type\":\"Title\"},{\"attributes\":{\"plot\":{\"id\":\"066f14dd-8601-48d1-94d2-05b344571548\",\"subtype\":\"Figure\",\"type\":\"Plot\"}},\"id\":\"47719fa1-efa3-4156-bb94-9ebdd26c173d\",\"type\":\"WheelZoomTool\"},{\"attributes\":{},\"id\":\"ba8fe48a-13f4-467c-8687-6892cc5d6778\",\"type\":\"BasicTickFormatter\"},{\"attributes\":{\"callback\":null,\"column_names\":[\"x\",\"y\"],\"data\":{\"x\":[5,10,15,20,25,30,35,40,45,50,55,60,65,70,75,80,85],\"y\":[11.267709831000047,9.818606054000156,10.435634698000285,15.91144412299991,17.07000417299969,21.101019450999956,23.40265847699993,23.575782978999996,29.55098228299994,29.988303688000087,30.58005624999987,35.32120414399924,36.94936921599947,37.49704381799984,43.49610917800055,44.06622747599977,45.24880558199948]}},\"id\":\"24e720d3-ff26-496b-bf97-d2b38454227e\",\"type\":\"ColumnDataSource\"},{\"attributes\":{},\"id\":\"8d5df4c9-38f1-4319-a0d8-623005b99305\",\"type\":\"BasicTickFormatter\"},{\"attributes\":{\"axis_label\":\"Read Size\",\"formatter\":{\"id\":\"ba8fe48a-13f4-467c-8687-6892cc5d6778\",\"type\":\"BasicTickFormatter\"},\"plot\":{\"id\":\"066f14dd-8601-48d1-94d2-05b344571548\",\"subtype\":\"Figure\",\"type\":\"Plot\"},\"ticker\":{\"id\":\"e92aa320-a40b-44b8-9a82-db84eedfe2ee\",\"type\":\"BasicTicker\"}},\"id\":\"fa395753-39d6-4165-840e-e6176127cda0\",\"type\":\"LinearAxis\"},{\"attributes\":{},\"id\":\"e93fbea4-a9f3-4e76-8de6-ed211b8ecf3b\",\"type\":\"ToolEvents\"},{\"attributes\":{\"dimension\":1,\"plot\":{\"id\":\"066f14dd-8601-48d1-94d2-05b344571548\",\"subtype\":\"Figure\",\"type\":\"Plot\"},\"ticker\":{\"id\":\"fe5b673b-ca66-4b27-b514-b94f2b72c8c5\",\"type\":\"BasicTicker\"}},\"id\":\"0a97f0c7-896b-43db-8cdf-0d9390207940\",\"type\":\"Grid\"},{\"attributes\":{\"below\":[{\"id\":\"fa395753-39d6-4165-840e-e6176127cda0\",\"type\":\"LinearAxis\"}],\"left\":[{\"id\":\"36f16b54-dfdb-489e-9788-6106b9695e8f\",\"type\":\"LinearAxis\"}],\"plot_height\":400,\"plot_width\":800,\"renderers\":[{\"id\":\"fa395753-39d6-4165-840e-e6176127cda0\",\"type\":\"LinearAxis\"},{\"id\":\"bda5073d-8b66-4bf6-8ade-15a30e7cc69a\",\"type\":\"Grid\"},{\"id\":\"36f16b54-dfdb-489e-9788-6106b9695e8f\",\"type\":\"LinearAxis\"},{\"id\":\"0a97f0c7-896b-43db-8cdf-0d9390207940\",\"type\":\"Grid\"},{\"id\":\"12ae0f97-24ed-4bfe-910d-50dc2ab879a5\",\"type\":\"BoxAnnotation\"},{\"id\":\"2c5ce39f-f37a-4e10-bb9f-14a7165c0c59\",\"type\":\"GlyphRenderer\"}],\"title\":{\"id\":\"6b9c6b79-d199-4430-aa14-7e1f7472ee34\",\"type\":\"Title\"},\"tool_events\":{\"id\":\"e93fbea4-a9f3-4e76-8de6-ed211b8ecf3b\",\"type\":\"ToolEvents\"},\"toolbar\":{\"id\":\"2f53cf51-f6e6-464d-bf34-8f8553157777\",\"type\":\"Toolbar\"},\"x_range\":{\"id\":\"a9709227-2765-42d5-92e2-6b697745d219\",\"type\":\"DataRange1d\"},\"y_range\":{\"id\":\"d20d2f01-3aba-4d53-8d21-62624237f86a\",\"type\":\"DataRange1d\"}},\"id\":\"066f14dd-8601-48d1-94d2-05b344571548\",\"subtype\":\"Figure\",\"type\":\"Plot\"},{\"attributes\":{},\"id\":\"e92aa320-a40b-44b8-9a82-db84eedfe2ee\",\"type\":\"BasicTicker\"},{\"attributes\":{\"callback\":null},\"id\":\"a9709227-2765-42d5-92e2-6b697745d219\",\"type\":\"DataRange1d\"},{\"attributes\":{\"line_alpha\":{\"value\":0.1},\"line_color\":{\"value\":\"#1f77b4\"},\"x\":{\"field\":\"x\"},\"y\":{\"field\":\"y\"}},\"id\":\"7108f0ff-a5cf-4489-8abd-dc80db1de89e\",\"type\":\"Line\"},{\"attributes\":{},\"id\":\"fe5b673b-ca66-4b27-b514-b94f2b72c8c5\",\"type\":\"BasicTicker\"},{\"attributes\":{\"active_drag\":\"auto\",\"active_scroll\":\"auto\",\"active_tap\":\"auto\",\"tools\":[{\"id\":\"c8a24ac6-675f-464b-ba7b-057482d72d31\",\"type\":\"PanTool\"},{\"id\":\"47719fa1-efa3-4156-bb94-9ebdd26c173d\",\"type\":\"WheelZoomTool\"},{\"id\":\"b74972ae-f36b-449e-8b01-96c27bf6a0c8\",\"type\":\"BoxZoomTool\"},{\"id\":\"3799cb75-2137-4d6c-b59b-3c2c6b173fa0\",\"type\":\"SaveTool\"},{\"id\":\"94deb288-f6ff-4ac9-bd12-a35130534d72\",\"type\":\"ResetTool\"},{\"id\":\"8c0a5e8a-b8b7-44dd-9158-867f573dcec3\",\"type\":\"HelpTool\"}]},\"id\":\"2f53cf51-f6e6-464d-bf34-8f8553157777\",\"type\":\"Toolbar\"},{\"attributes\":{\"plot\":{\"id\":\"066f14dd-8601-48d1-94d2-05b344571548\",\"subtype\":\"Figure\",\"type\":\"Plot\"}},\"id\":\"3799cb75-2137-4d6c-b59b-3c2c6b173fa0\",\"type\":\"SaveTool\"},{\"attributes\":{\"axis_label\":\"Time\",\"formatter\":{\"id\":\"8d5df4c9-38f1-4319-a0d8-623005b99305\",\"type\":\"BasicTickFormatter\"},\"plot\":{\"id\":\"066f14dd-8601-48d1-94d2-05b344571548\",\"subtype\":\"Figure\",\"type\":\"Plot\"},\"ticker\":{\"id\":\"fe5b673b-ca66-4b27-b514-b94f2b72c8c5\",\"type\":\"BasicTicker\"}},\"id\":\"36f16b54-dfdb-489e-9788-6106b9695e8f\",\"type\":\"LinearAxis\"},{\"attributes\":{\"callback\":null},\"id\":\"d20d2f01-3aba-4d53-8d21-62624237f86a\",\"type\":\"DataRange1d\"},{\"attributes\":{\"plot\":{\"id\":\"066f14dd-8601-48d1-94d2-05b344571548\",\"subtype\":\"Figure\",\"type\":\"Plot\"}},\"id\":\"c8a24ac6-675f-464b-ba7b-057482d72d31\",\"type\":\"PanTool\"},{\"attributes\":{\"plot\":{\"id\":\"066f14dd-8601-48d1-94d2-05b344571548\",\"subtype\":\"Figure\",\"type\":\"Plot\"},\"ticker\":{\"id\":\"e92aa320-a40b-44b8-9a82-db84eedfe2ee\",\"type\":\"BasicTicker\"}},\"id\":\"bda5073d-8b66-4bf6-8ade-15a30e7cc69a\",\"type\":\"Grid\"},{\"attributes\":{\"line_color\":{\"value\":\"#1f77b4\"},\"x\":{\"field\":\"x\"},\"y\":{\"field\":\"y\"}},\"id\":\"84643650-3040-4ab8-b082-f35bae770029\",\"type\":\"Line\"}],\"root_ids\":[\"066f14dd-8601-48d1-94d2-05b344571548\"]},\"title\":\"Bokeh Application\",\"version\":\"0.12.2\"}};\n",
       "            var render_items = [{\"docid\":\"47fa9f83-5434-4903-bd1c-3bd315464226\",\"elementid\":\"d93211e3-b48d-484a-adf4-80d8def0fdbb\",\"modelid\":\"066f14dd-8601-48d1-94d2-05b344571548\"}];\n",
       "            \n",
       "            Bokeh.embed.embed_items(docs_json, render_items);\n",
       "        });\n",
       "      },\n",
       "      function(Bokeh) {\n",
       "      }\n",
       "    ];\n",
       "  \n",
       "    function run_inline_js() {\n",
       "      \n",
       "      if ((window.Bokeh !== undefined) || (force === \"1\")) {\n",
       "        for (var i = 0; i < inline_js.length; i++) {\n",
       "          inline_js[i](window.Bokeh);\n",
       "        }if (force === \"1\") {\n",
       "          display_loaded();\n",
       "        }} else if (Date.now() < window._bokeh_timeout) {\n",
       "        setTimeout(run_inline_js, 100);\n",
       "      } else if (!window._bokeh_failed_load) {\n",
       "        console.log(\"Bokeh: BokehJS failed to load within specified timeout.\");\n",
       "        window._bokeh_failed_load = true;\n",
       "      } else if (!force) {\n",
       "        var cell = $(\"#d93211e3-b48d-484a-adf4-80d8def0fdbb\").parents('.cell').data().cell;\n",
       "        cell.output_area.append_execute_result(NB_LOAD_WARNING)\n",
       "      }\n",
       "  \n",
       "    }\n",
       "  \n",
       "    if (window._bokeh_is_loading === 0) {\n",
       "      console.log(\"Bokeh: BokehJS loaded, going straight to plotting\");\n",
       "      run_inline_js();\n",
       "    } else {\n",
       "      load_libs(js_urls, function() {\n",
       "        console.log(\"Bokeh: BokehJS plotting callback run at\", now());\n",
       "        run_inline_js();\n",
       "      });\n",
       "    }\n",
       "  }(this));\n",
       "</script>"
      ]
     },
     "metadata": {},
     "output_type": "display_data"
    }
   ],
   "source": [
    "# p = None\n",
    "p = figure(plot_width=800, plot_height=400, title=\"GPU Assisted Assembly\")\n",
    "p.xaxis.axis_label='Read Size'\n",
    "p.yaxis.axis_label='Time'\n",
    "p.line(read_sizes,run_times, line_width=1)\n",
    "show(p)"
   ]
  },
  {
   "cell_type": "markdown",
   "metadata": {
    "collapsed": true
   },
   "source": [
    "## Now let's do the same thing with the pure python assembler"
   ]
  },
  {
   "cell_type": "code",
   "execution_count": 23,
   "metadata": {
    "collapsed": true
   },
   "outputs": [],
   "source": [
    "# datafile = '/home/ubuntu/genome/ba100k_clean.txt'\n",
    "datafile = '/home/ubuntu/genome/sra_clean'"
   ]
  },
  {
   "cell_type": "code",
   "execution_count": 24,
   "metadata": {
    "collapsed": true
   },
   "outputs": [],
   "source": [
    "compliment = {'A': 'T', 'C': 'G', 'G': 'C', 'T': 'A'}"
   ]
  },
  {
   "cell_type": "code",
   "execution_count": 25,
   "metadata": {
    "collapsed": true
   },
   "outputs": [],
   "source": [
    "def twin(km):\n",
    "    compliment = {'A': 'T', 'C': 'G', 'G': 'C', 'T': 'A'}\n",
    "    # return Seq.reverse_complement(km)\n",
    "    return \"\".join(compliment.get(base, base) for base in reversed(km))\n",
    "\n",
    "def fw(km):\n",
    "    for x in 'ACGT':\n",
    "        yield km[1:]+x\n",
    "\n",
    "def bw(km):\n",
    "    for x in 'ACGT':\n",
    "        yield x + km[:-1]"
   ]
  },
  {
   "cell_type": "code",
   "execution_count": 26,
   "metadata": {
    "collapsed": true
   },
   "outputs": [],
   "source": [
    "def contig_to_string(c):\n",
    "    return c[0] + ''.join(x[-1] for x in c[1:])\n",
    "\n",
    "def get_contig(d,km):\n",
    "    '''\n",
    "    Find kmer's contig.\n",
    "    Return: the string, list of kmers in contig\n",
    "    '''\n",
    "    c_fw = get_contig_forward(d,km)\n",
    "\n",
    "    c_bw = get_contig_forward(d,twin(km))\n",
    "\n",
    "    if km in fw(c_fw[-1]):\n",
    "        c = c_fw\n",
    "    else:\n",
    "        c = [twin(x) for x in c_bw[-1:0:-1]] + c_fw\n",
    "    return contig_to_string(c),c\n",
    "\n",
    "\n",
    "def get_contig_forward(d,km):\n",
    "    c_fw = [km]\n",
    "\n",
    "    while True:\n",
    "        if sum(x in d for x in fw(c_fw[-1])) != 1:\n",
    "            break\n",
    "\n",
    "        cand = [x for x in fw(c_fw[-1]) if x in d][0]\n",
    "        if cand == km or cand == twin(km):\n",
    "            break # break out of cycles or mobius contigs\n",
    "        if cand == twin(c_fw[-1]):\n",
    "            break # break out of hairpins\n",
    "\n",
    "        if sum(x in d for x in bw(cand)) != 1:\n",
    "            break\n",
    "\n",
    "        c_fw.append(cand)\n",
    "\n",
    "    return c_fw\n",
    "\n",
    "def all_contigs(k_tuples):\n",
    "    d = dict(k_tuples)\n",
    "    done = set()\n",
    "    r = []\n",
    "    for x in d:\n",
    "        if x not in done:\n",
    "            s,c = get_contig(d,x)\n",
    "            for y in c:\n",
    "                done.add(y)\n",
    "                done.add(twin(y))\n",
    "            r.append(s)\n",
    "    return r"
   ]
  },
  {
   "cell_type": "code",
   "execution_count": 27,
   "metadata": {
    "collapsed": true
   },
   "outputs": [],
   "source": [
    "def do_baseline(run_size, path):\n",
    "    k = 17\n",
    "    lmerLength = 18\n",
    "    subprocess.call([\"hdfs\", \"dfs\", \"-rm\", \"-r\", \"-f\", '/genome/' + path])\n",
    "    dataset = make_dataset(run_size)\n",
    "    data = sc.parallelize(dataset, (run_size // 2000))\n",
    "    fwd_list = data.flatMap(lambda x: [x[i:i+k] for i in range(len(x.rstrip())-k+1)])\n",
    "    rev_comp = data.map(lambda x:''.join(reversed([compliment.get(base, base) for base in x])))\n",
    "    rev_list = rev_comp.flatMap(lambda x: [x[i:i+k] for i in range(len(x.rstrip())-k+1)])\n",
    "    kmer_list = fwd_list + rev_list\n",
    "    emitter = kmer_list.map(lambda x: (x, 1))\n",
    "    kmer_counts = emitter.reduceByKey(lambda x, y: x+y)\n",
    "    asm_time = kmer_counts.mapPartitions(all_contigs).saveAsTextFile('hdfs://172.31.26.32/genome/' + path)\n",
    "    "
   ]
  },
  {
   "cell_type": "code",
   "execution_count": null,
   "metadata": {
    "collapsed": true
   },
   "outputs": [],
   "source": []
  },
  {
   "cell_type": "code",
   "execution_count": 30,
   "metadata": {
    "collapsed": false
   },
   "outputs": [],
   "source": [
    "#upper_limit = 60000\n",
    "upper_limit += 5000"
   ]
  },
  {
   "cell_type": "code",
   "execution_count": 31,
   "metadata": {
    "collapsed": true
   },
   "outputs": [],
   "source": [
    "base_timing = OrderedDict()"
   ]
  },
  {
   "cell_type": "code",
   "execution_count": null,
   "metadata": {
    "collapsed": false
   },
   "outputs": [],
   "source": [
    "#do_baseline(10000,'base_output')"
   ]
  },
  {
   "cell_type": "code",
   "execution_count": 32,
   "metadata": {
    "collapsed": false
   },
   "outputs": [
    {
     "name": "stdout",
     "output_type": "stream",
     "text": [
      "1 loop, best of 5: 5.85 s per loop\n",
      "5000 5.848415021999244\n",
      "\n",
      "1 loop, best of 5: 13.4 s per loop\n",
      "10000 13.375951134000388\n",
      "\n",
      "The slowest run took 4.24 times longer than the fastest. This could mean that an intermediate result is being cached.\n",
      "1 loop, best of 5: 8.38 s per loop\n",
      "15000 8.383503173000463\n",
      "\n",
      "1 loop, best of 5: 10.2 s per loop\n",
      "20000 10.200104548999661\n",
      "\n",
      "1 loop, best of 5: 12.8 s per loop\n",
      "25000 12.840071923999858\n",
      "\n",
      "1 loop, best of 5: 14.6 s per loop\n",
      "30000 14.59803893499975\n",
      "\n",
      "1 loop, best of 5: 15.4 s per loop\n",
      "35000 15.409415425000589\n",
      "\n",
      "1 loop, best of 5: 17.2 s per loop\n",
      "40000 17.226859213000353\n",
      "\n",
      "1 loop, best of 5: 19.3 s per loop\n",
      "45000 19.325862753000365\n",
      "\n",
      "1 loop, best of 5: 20.9 s per loop\n",
      "50000 20.909636643999875\n",
      "\n",
      "1 loop, best of 5: 21.9 s per loop\n",
      "55000 21.92055673699997\n",
      "\n",
      "1 loop, best of 5: 24 s per loop\n",
      "60000 23.98209688099996\n",
      "\n",
      "1 loop, best of 5: 25.7 s per loop\n",
      "65000 25.746402654999656\n",
      "\n",
      "1 loop, best of 5: 26.4 s per loop\n",
      "70000 26.41261695999947\n",
      "\n",
      "1 loop, best of 5: 28.2 s per loop\n",
      "75000 28.197112466000362\n",
      "\n",
      "1 loop, best of 5: 29.6 s per loop\n",
      "80000 29.624492800000553\n",
      "\n",
      "1 loop, best of 5: 30.5 s per loop\n",
      "85000 30.450817831000677\n",
      "\n"
     ]
    }
   ],
   "source": [
    "for i in range(5000, upper_limit, 5000):\n",
    "#     print(str(i), ' reads: ', flush=True)\n",
    "    timing = %timeit -o -r 5 do_baseline(i, \"base_output\")\n",
    "    print(i, timing.best, flush=True)\n",
    "    print(flush=True)\n",
    "    base_timing[i] = timing"
   ]
  },
  {
   "cell_type": "code",
   "execution_count": 33,
   "metadata": {
    "collapsed": true
   },
   "outputs": [],
   "source": [
    "base_run_times = [v.best for v in base_timing.values()]\n",
    "base_read_sizes = [k//1000 for k in base_timing.keys()]"
   ]
  },
  {
   "cell_type": "code",
   "execution_count": 34,
   "metadata": {
    "collapsed": false
   },
   "outputs": [
    {
     "data": {
      "text/plain": [
       "[5, 10, 15, 20, 25, 30, 35, 40, 45, 50, 55, 60, 65, 70, 75, 80, 85]"
      ]
     },
     "execution_count": 34,
     "metadata": {},
     "output_type": "execute_result"
    }
   ],
   "source": [
    "base_read_sizes"
   ]
  },
  {
   "cell_type": "code",
   "execution_count": 35,
   "metadata": {
    "collapsed": false
   },
   "outputs": [
    {
     "data": {
      "text/plain": [
       "[5.848415021999244,\n",
       " 13.375951134000388,\n",
       " 8.383503173000463,\n",
       " 10.200104548999661,\n",
       " 12.840071923999858,\n",
       " 14.59803893499975,\n",
       " 15.409415425000589,\n",
       " 17.226859213000353,\n",
       " 19.325862753000365,\n",
       " 20.909636643999875,\n",
       " 21.92055673699997,\n",
       " 23.98209688099996,\n",
       " 25.746402654999656,\n",
       " 26.41261695999947,\n",
       " 28.197112466000362,\n",
       " 29.624492800000553,\n",
       " 30.450817831000677]"
      ]
     },
     "execution_count": 35,
     "metadata": {},
     "output_type": "execute_result"
    }
   ],
   "source": [
    "base_run_times"
   ]
  },
  {
   "cell_type": "code",
   "execution_count": 36,
   "metadata": {
    "collapsed": false
   },
   "outputs": [
    {
     "data": {
      "text/html": [
       "\n",
       "\n",
       "    <div class=\"bk-root\">\n",
       "        <div class=\"plotdiv\" id=\"b77eb25a-c67e-4589-aca1-403b05f1bfe9\"></div>\n",
       "    </div>\n",
       "<script type=\"text/javascript\">\n",
       "  \n",
       "  (function(global) {\n",
       "    function now() {\n",
       "      return new Date();\n",
       "    }\n",
       "  \n",
       "    var force = \"\";\n",
       "  \n",
       "    if (typeof (window._bokeh_onload_callbacks) === \"undefined\" || force !== \"\") {\n",
       "      window._bokeh_onload_callbacks = [];\n",
       "      window._bokeh_is_loading = undefined;\n",
       "    }\n",
       "  \n",
       "  \n",
       "    \n",
       "    if (typeof (window._bokeh_timeout) === \"undefined\" || force !== \"\") {\n",
       "      window._bokeh_timeout = Date.now() + 0;\n",
       "      window._bokeh_failed_load = false;\n",
       "    }\n",
       "  \n",
       "    var NB_LOAD_WARNING = {'data': {'text/html':\n",
       "       \"<div style='background-color: #fdd'>\\n\"+\n",
       "       \"<p>\\n\"+\n",
       "       \"BokehJS does not appear to have successfully loaded. If loading BokehJS from CDN, this \\n\"+\n",
       "       \"may be due to a slow or bad network connection. Possible fixes:\\n\"+\n",
       "       \"</p>\\n\"+\n",
       "       \"<ul>\\n\"+\n",
       "       \"<li>re-rerun `output_notebook()` to attempt to load from CDN again, or</li>\\n\"+\n",
       "       \"<li>use INLINE resources instead, as so:</li>\\n\"+\n",
       "       \"</ul>\\n\"+\n",
       "       \"<code>\\n\"+\n",
       "       \"from bokeh.resources import INLINE\\n\"+\n",
       "       \"output_notebook(resources=INLINE)\\n\"+\n",
       "       \"</code>\\n\"+\n",
       "       \"</div>\"}};\n",
       "  \n",
       "    function display_loaded() {\n",
       "      if (window.Bokeh !== undefined) {\n",
       "        Bokeh.$(\"#b77eb25a-c67e-4589-aca1-403b05f1bfe9\").text(\"BokehJS successfully loaded.\");\n",
       "      } else if (Date.now() < window._bokeh_timeout) {\n",
       "        setTimeout(display_loaded, 100)\n",
       "      }\n",
       "    }\n",
       "  \n",
       "    function run_callbacks() {\n",
       "      window._bokeh_onload_callbacks.forEach(function(callback) { callback() });\n",
       "      delete window._bokeh_onload_callbacks\n",
       "      console.info(\"Bokeh: all callbacks have finished\");\n",
       "    }\n",
       "  \n",
       "    function load_libs(js_urls, callback) {\n",
       "      window._bokeh_onload_callbacks.push(callback);\n",
       "      if (window._bokeh_is_loading > 0) {\n",
       "        console.log(\"Bokeh: BokehJS is being loaded, scheduling callback at\", now());\n",
       "        return null;\n",
       "      }\n",
       "      if (js_urls == null || js_urls.length === 0) {\n",
       "        run_callbacks();\n",
       "        return null;\n",
       "      }\n",
       "      console.log(\"Bokeh: BokehJS not loaded, scheduling load and callback at\", now());\n",
       "      window._bokeh_is_loading = js_urls.length;\n",
       "      for (var i = 0; i < js_urls.length; i++) {\n",
       "        var url = js_urls[i];\n",
       "        var s = document.createElement('script');\n",
       "        s.src = url;\n",
       "        s.async = false;\n",
       "        s.onreadystatechange = s.onload = function() {\n",
       "          window._bokeh_is_loading--;\n",
       "          if (window._bokeh_is_loading === 0) {\n",
       "            console.log(\"Bokeh: all BokehJS libraries loaded\");\n",
       "            run_callbacks()\n",
       "          }\n",
       "        };\n",
       "        s.onerror = function() {\n",
       "          console.warn(\"failed to load library \" + url);\n",
       "        };\n",
       "        console.log(\"Bokeh: injecting script tag for BokehJS library: \", url);\n",
       "        document.getElementsByTagName(\"head\")[0].appendChild(s);\n",
       "      }\n",
       "    };var element = document.getElementById(\"b77eb25a-c67e-4589-aca1-403b05f1bfe9\");\n",
       "    if (element == null) {\n",
       "      console.log(\"Bokeh: ERROR: autoload.js configured with elementid 'b77eb25a-c67e-4589-aca1-403b05f1bfe9' but no matching script tag was found. \")\n",
       "      return false;\n",
       "    }\n",
       "  \n",
       "    var js_urls = [];\n",
       "  \n",
       "    var inline_js = [\n",
       "      function(Bokeh) {\n",
       "        Bokeh.$(function() {\n",
       "            var docs_json = {\"0b20575d-35df-4b11-a015-3e83eb3ca72a\":{\"roots\":{\"references\":[{\"attributes\":{\"plot\":{\"id\":\"39b43968-68fc-4283-9ead-b3deca8e1c28\",\"subtype\":\"Figure\",\"type\":\"Plot\"}},\"id\":\"8e09ea30-9b6d-496f-b130-b7de1b89471d\",\"type\":\"WheelZoomTool\"},{\"attributes\":{\"data_source\":{\"id\":\"e9bdc29d-58d3-4a94-af23-d155be2867bb\",\"type\":\"ColumnDataSource\"},\"glyph\":{\"id\":\"8aef9fb5-8592-48fb-bebe-1df4525ec209\",\"type\":\"Line\"},\"hover_glyph\":null,\"nonselection_glyph\":{\"id\":\"dd9e2c44-f3cb-4fc0-bf1f-91a8ae2680a0\",\"type\":\"Line\"},\"selection_glyph\":null},\"id\":\"75bc6428-f362-4bec-af23-dd804c05a454\",\"type\":\"GlyphRenderer\"},{\"attributes\":{\"axis_label\":\"Time\",\"formatter\":{\"id\":\"4c7e9019-0b44-4950-8843-f1d40840c7be\",\"type\":\"BasicTickFormatter\"},\"plot\":{\"id\":\"39b43968-68fc-4283-9ead-b3deca8e1c28\",\"subtype\":\"Figure\",\"type\":\"Plot\"},\"ticker\":{\"id\":\"b646a764-5245-47a7-a7fe-44e8fceb75b5\",\"type\":\"BasicTicker\"}},\"id\":\"2a76027f-47b1-4d88-95a2-aa5b183bef81\",\"type\":\"LinearAxis\"},{\"attributes\":{\"plot\":{\"id\":\"39b43968-68fc-4283-9ead-b3deca8e1c28\",\"subtype\":\"Figure\",\"type\":\"Plot\"}},\"id\":\"0dcb96be-3cde-4fd1-a613-0eca57f100bf\",\"type\":\"SaveTool\"},{\"attributes\":{\"callback\":null},\"id\":\"9dd1f2f0-e88e-4089-99ca-6f5d21344a23\",\"type\":\"DataRange1d\"},{\"attributes\":{\"callback\":null},\"id\":\"3e38426d-b952-4b04-948d-dbb192ae4cc2\",\"type\":\"DataRange1d\"},{\"attributes\":{\"below\":[{\"id\":\"e8f26067-58ca-45ed-bb05-94dd5e043d77\",\"type\":\"LinearAxis\"}],\"left\":[{\"id\":\"2a76027f-47b1-4d88-95a2-aa5b183bef81\",\"type\":\"LinearAxis\"}],\"plot_height\":400,\"plot_width\":800,\"renderers\":[{\"id\":\"e8f26067-58ca-45ed-bb05-94dd5e043d77\",\"type\":\"LinearAxis\"},{\"id\":\"cca49f29-adc7-4f7a-bb96-a9988ed34cdd\",\"type\":\"Grid\"},{\"id\":\"2a76027f-47b1-4d88-95a2-aa5b183bef81\",\"type\":\"LinearAxis\"},{\"id\":\"7bec3d2b-a62f-42d2-b4c8-e2240f11c960\",\"type\":\"Grid\"},{\"id\":\"6b1d4bfd-0b34-4d1c-a110-32fd515dc250\",\"type\":\"BoxAnnotation\"},{\"id\":\"75bc6428-f362-4bec-af23-dd804c05a454\",\"type\":\"GlyphRenderer\"}],\"title\":{\"id\":\"a956a2fc-6f84-42b2-bf0c-649cc8501f0f\",\"type\":\"Title\"},\"tool_events\":{\"id\":\"618b1ed0-f128-4029-9cb6-0c6289255256\",\"type\":\"ToolEvents\"},\"toolbar\":{\"id\":\"9b2ae8e6-50f4-44bc-aa4b-20341bf89b17\",\"type\":\"Toolbar\"},\"x_range\":{\"id\":\"3e38426d-b952-4b04-948d-dbb192ae4cc2\",\"type\":\"DataRange1d\"},\"y_range\":{\"id\":\"9dd1f2f0-e88e-4089-99ca-6f5d21344a23\",\"type\":\"DataRange1d\"}},\"id\":\"39b43968-68fc-4283-9ead-b3deca8e1c28\",\"subtype\":\"Figure\",\"type\":\"Plot\"},{\"attributes\":{\"plot\":{\"id\":\"39b43968-68fc-4283-9ead-b3deca8e1c28\",\"subtype\":\"Figure\",\"type\":\"Plot\"}},\"id\":\"7c34b476-01a6-4fc3-82de-db511eb4178e\",\"type\":\"ResetTool\"},{\"attributes\":{\"callback\":null,\"column_names\":[\"x\",\"y\"],\"data\":{\"x\":[5,10,15,20,25,30,35,40,45,50,55,60,65,70,75,80,85],\"y\":[5.848415021999244,13.375951134000388,8.383503173000463,10.200104548999661,12.840071923999858,14.59803893499975,15.409415425000589,17.226859213000353,19.325862753000365,20.909636643999875,21.92055673699997,23.98209688099996,25.746402654999656,26.41261695999947,28.197112466000362,29.624492800000553,30.450817831000677]}},\"id\":\"e9bdc29d-58d3-4a94-af23-d155be2867bb\",\"type\":\"ColumnDataSource\"},{\"attributes\":{\"dimension\":1,\"plot\":{\"id\":\"39b43968-68fc-4283-9ead-b3deca8e1c28\",\"subtype\":\"Figure\",\"type\":\"Plot\"},\"ticker\":{\"id\":\"b646a764-5245-47a7-a7fe-44e8fceb75b5\",\"type\":\"BasicTicker\"}},\"id\":\"7bec3d2b-a62f-42d2-b4c8-e2240f11c960\",\"type\":\"Grid\"},{\"attributes\":{},\"id\":\"8e18678c-d8b7-4a44-9e79-cdf87955a730\",\"type\":\"BasicTickFormatter\"},{\"attributes\":{\"plot\":{\"id\":\"39b43968-68fc-4283-9ead-b3deca8e1c28\",\"subtype\":\"Figure\",\"type\":\"Plot\"}},\"id\":\"7968d7d8-bf4e-4adf-89eb-9d9964b58e4a\",\"type\":\"HelpTool\"},{\"attributes\":{},\"id\":\"618b1ed0-f128-4029-9cb6-0c6289255256\",\"type\":\"ToolEvents\"},{\"attributes\":{\"plot\":{\"id\":\"39b43968-68fc-4283-9ead-b3deca8e1c28\",\"subtype\":\"Figure\",\"type\":\"Plot\"}},\"id\":\"d14e205b-ca06-4abe-848a-b313e6dedcd6\",\"type\":\"PanTool\"},{\"attributes\":{\"axis_label\":\"Read Size\",\"formatter\":{\"id\":\"8e18678c-d8b7-4a44-9e79-cdf87955a730\",\"type\":\"BasicTickFormatter\"},\"plot\":{\"id\":\"39b43968-68fc-4283-9ead-b3deca8e1c28\",\"subtype\":\"Figure\",\"type\":\"Plot\"},\"ticker\":{\"id\":\"0ddd7ae8-43b8-4e25-86ac-b464c5df88da\",\"type\":\"BasicTicker\"}},\"id\":\"e8f26067-58ca-45ed-bb05-94dd5e043d77\",\"type\":\"LinearAxis\"},{\"attributes\":{},\"id\":\"4c7e9019-0b44-4950-8843-f1d40840c7be\",\"type\":\"BasicTickFormatter\"},{\"attributes\":{\"bottom_units\":\"screen\",\"fill_alpha\":{\"value\":0.5},\"fill_color\":{\"value\":\"lightgrey\"},\"left_units\":\"screen\",\"level\":\"overlay\",\"line_alpha\":{\"value\":1.0},\"line_color\":{\"value\":\"black\"},\"line_dash\":[4,4],\"line_width\":{\"value\":2},\"plot\":null,\"render_mode\":\"css\",\"right_units\":\"screen\",\"top_units\":\"screen\"},\"id\":\"6b1d4bfd-0b34-4d1c-a110-32fd515dc250\",\"type\":\"BoxAnnotation\"},{\"attributes\":{\"active_drag\":\"auto\",\"active_scroll\":\"auto\",\"active_tap\":\"auto\",\"tools\":[{\"id\":\"d14e205b-ca06-4abe-848a-b313e6dedcd6\",\"type\":\"PanTool\"},{\"id\":\"8e09ea30-9b6d-496f-b130-b7de1b89471d\",\"type\":\"WheelZoomTool\"},{\"id\":\"046c468e-4ca0-458b-953f-fc9f9d911d83\",\"type\":\"BoxZoomTool\"},{\"id\":\"0dcb96be-3cde-4fd1-a613-0eca57f100bf\",\"type\":\"SaveTool\"},{\"id\":\"7c34b476-01a6-4fc3-82de-db511eb4178e\",\"type\":\"ResetTool\"},{\"id\":\"7968d7d8-bf4e-4adf-89eb-9d9964b58e4a\",\"type\":\"HelpTool\"}]},\"id\":\"9b2ae8e6-50f4-44bc-aa4b-20341bf89b17\",\"type\":\"Toolbar\"},{\"attributes\":{\"line_alpha\":{\"value\":0.1},\"line_color\":{\"value\":\"#1f77b4\"},\"x\":{\"field\":\"x\"},\"y\":{\"field\":\"y\"}},\"id\":\"dd9e2c44-f3cb-4fc0-bf1f-91a8ae2680a0\",\"type\":\"Line\"},{\"attributes\":{\"plot\":null,\"text\":\"Pure Python Assembly\"},\"id\":\"a956a2fc-6f84-42b2-bf0c-649cc8501f0f\",\"type\":\"Title\"},{\"attributes\":{\"overlay\":{\"id\":\"6b1d4bfd-0b34-4d1c-a110-32fd515dc250\",\"type\":\"BoxAnnotation\"},\"plot\":{\"id\":\"39b43968-68fc-4283-9ead-b3deca8e1c28\",\"subtype\":\"Figure\",\"type\":\"Plot\"}},\"id\":\"046c468e-4ca0-458b-953f-fc9f9d911d83\",\"type\":\"BoxZoomTool\"},{\"attributes\":{},\"id\":\"0ddd7ae8-43b8-4e25-86ac-b464c5df88da\",\"type\":\"BasicTicker\"},{\"attributes\":{\"line_color\":{\"value\":\"navy\"},\"x\":{\"field\":\"x\"},\"y\":{\"field\":\"y\"}},\"id\":\"8aef9fb5-8592-48fb-bebe-1df4525ec209\",\"type\":\"Line\"},{\"attributes\":{},\"id\":\"b646a764-5245-47a7-a7fe-44e8fceb75b5\",\"type\":\"BasicTicker\"},{\"attributes\":{\"plot\":{\"id\":\"39b43968-68fc-4283-9ead-b3deca8e1c28\",\"subtype\":\"Figure\",\"type\":\"Plot\"},\"ticker\":{\"id\":\"0ddd7ae8-43b8-4e25-86ac-b464c5df88da\",\"type\":\"BasicTicker\"}},\"id\":\"cca49f29-adc7-4f7a-bb96-a9988ed34cdd\",\"type\":\"Grid\"}],\"root_ids\":[\"39b43968-68fc-4283-9ead-b3deca8e1c28\"]},\"title\":\"Bokeh Application\",\"version\":\"0.12.2\"}};\n",
       "            var render_items = [{\"docid\":\"0b20575d-35df-4b11-a015-3e83eb3ca72a\",\"elementid\":\"b77eb25a-c67e-4589-aca1-403b05f1bfe9\",\"modelid\":\"39b43968-68fc-4283-9ead-b3deca8e1c28\"}];\n",
       "            \n",
       "            Bokeh.embed.embed_items(docs_json, render_items);\n",
       "        });\n",
       "      },\n",
       "      function(Bokeh) {\n",
       "      }\n",
       "    ];\n",
       "  \n",
       "    function run_inline_js() {\n",
       "      \n",
       "      if ((window.Bokeh !== undefined) || (force === \"1\")) {\n",
       "        for (var i = 0; i < inline_js.length; i++) {\n",
       "          inline_js[i](window.Bokeh);\n",
       "        }if (force === \"1\") {\n",
       "          display_loaded();\n",
       "        }} else if (Date.now() < window._bokeh_timeout) {\n",
       "        setTimeout(run_inline_js, 100);\n",
       "      } else if (!window._bokeh_failed_load) {\n",
       "        console.log(\"Bokeh: BokehJS failed to load within specified timeout.\");\n",
       "        window._bokeh_failed_load = true;\n",
       "      } else if (!force) {\n",
       "        var cell = $(\"#b77eb25a-c67e-4589-aca1-403b05f1bfe9\").parents('.cell').data().cell;\n",
       "        cell.output_area.append_execute_result(NB_LOAD_WARNING)\n",
       "      }\n",
       "  \n",
       "    }\n",
       "  \n",
       "    if (window._bokeh_is_loading === 0) {\n",
       "      console.log(\"Bokeh: BokehJS loaded, going straight to plotting\");\n",
       "      run_inline_js();\n",
       "    } else {\n",
       "      load_libs(js_urls, function() {\n",
       "        console.log(\"Bokeh: BokehJS plotting callback run at\", now());\n",
       "        run_inline_js();\n",
       "      });\n",
       "    }\n",
       "  }(this));\n",
       "</script>"
      ]
     },
     "metadata": {},
     "output_type": "display_data"
    }
   ],
   "source": [
    "p = figure(plot_width=800, plot_height=400, title=\"Pure Python Assembly\")\n",
    "p.xaxis.axis_label='Read Size'\n",
    "p.yaxis.axis_label='Time'\n",
    "p.line(base_read_sizes,base_run_times,color=\"navy\",line_width=1)\n",
    "show(p)"
   ]
  },
  {
   "cell_type": "code",
   "execution_count": 37,
   "metadata": {
    "collapsed": false
   },
   "outputs": [
    {
     "data": {
      "text/html": [
       "\n",
       "\n",
       "    <div class=\"bk-root\">\n",
       "        <div class=\"plotdiv\" id=\"8c7a7174-949f-467d-afef-0956c0ef3f59\"></div>\n",
       "    </div>\n",
       "<script type=\"text/javascript\">\n",
       "  \n",
       "  (function(global) {\n",
       "    function now() {\n",
       "      return new Date();\n",
       "    }\n",
       "  \n",
       "    var force = \"\";\n",
       "  \n",
       "    if (typeof (window._bokeh_onload_callbacks) === \"undefined\" || force !== \"\") {\n",
       "      window._bokeh_onload_callbacks = [];\n",
       "      window._bokeh_is_loading = undefined;\n",
       "    }\n",
       "  \n",
       "  \n",
       "    \n",
       "    if (typeof (window._bokeh_timeout) === \"undefined\" || force !== \"\") {\n",
       "      window._bokeh_timeout = Date.now() + 0;\n",
       "      window._bokeh_failed_load = false;\n",
       "    }\n",
       "  \n",
       "    var NB_LOAD_WARNING = {'data': {'text/html':\n",
       "       \"<div style='background-color: #fdd'>\\n\"+\n",
       "       \"<p>\\n\"+\n",
       "       \"BokehJS does not appear to have successfully loaded. If loading BokehJS from CDN, this \\n\"+\n",
       "       \"may be due to a slow or bad network connection. Possible fixes:\\n\"+\n",
       "       \"</p>\\n\"+\n",
       "       \"<ul>\\n\"+\n",
       "       \"<li>re-rerun `output_notebook()` to attempt to load from CDN again, or</li>\\n\"+\n",
       "       \"<li>use INLINE resources instead, as so:</li>\\n\"+\n",
       "       \"</ul>\\n\"+\n",
       "       \"<code>\\n\"+\n",
       "       \"from bokeh.resources import INLINE\\n\"+\n",
       "       \"output_notebook(resources=INLINE)\\n\"+\n",
       "       \"</code>\\n\"+\n",
       "       \"</div>\"}};\n",
       "  \n",
       "    function display_loaded() {\n",
       "      if (window.Bokeh !== undefined) {\n",
       "        Bokeh.$(\"#8c7a7174-949f-467d-afef-0956c0ef3f59\").text(\"BokehJS successfully loaded.\");\n",
       "      } else if (Date.now() < window._bokeh_timeout) {\n",
       "        setTimeout(display_loaded, 100)\n",
       "      }\n",
       "    }\n",
       "  \n",
       "    function run_callbacks() {\n",
       "      window._bokeh_onload_callbacks.forEach(function(callback) { callback() });\n",
       "      delete window._bokeh_onload_callbacks\n",
       "      console.info(\"Bokeh: all callbacks have finished\");\n",
       "    }\n",
       "  \n",
       "    function load_libs(js_urls, callback) {\n",
       "      window._bokeh_onload_callbacks.push(callback);\n",
       "      if (window._bokeh_is_loading > 0) {\n",
       "        console.log(\"Bokeh: BokehJS is being loaded, scheduling callback at\", now());\n",
       "        return null;\n",
       "      }\n",
       "      if (js_urls == null || js_urls.length === 0) {\n",
       "        run_callbacks();\n",
       "        return null;\n",
       "      }\n",
       "      console.log(\"Bokeh: BokehJS not loaded, scheduling load and callback at\", now());\n",
       "      window._bokeh_is_loading = js_urls.length;\n",
       "      for (var i = 0; i < js_urls.length; i++) {\n",
       "        var url = js_urls[i];\n",
       "        var s = document.createElement('script');\n",
       "        s.src = url;\n",
       "        s.async = false;\n",
       "        s.onreadystatechange = s.onload = function() {\n",
       "          window._bokeh_is_loading--;\n",
       "          if (window._bokeh_is_loading === 0) {\n",
       "            console.log(\"Bokeh: all BokehJS libraries loaded\");\n",
       "            run_callbacks()\n",
       "          }\n",
       "        };\n",
       "        s.onerror = function() {\n",
       "          console.warn(\"failed to load library \" + url);\n",
       "        };\n",
       "        console.log(\"Bokeh: injecting script tag for BokehJS library: \", url);\n",
       "        document.getElementsByTagName(\"head\")[0].appendChild(s);\n",
       "      }\n",
       "    };var element = document.getElementById(\"8c7a7174-949f-467d-afef-0956c0ef3f59\");\n",
       "    if (element == null) {\n",
       "      console.log(\"Bokeh: ERROR: autoload.js configured with elementid '8c7a7174-949f-467d-afef-0956c0ef3f59' but no matching script tag was found. \")\n",
       "      return false;\n",
       "    }\n",
       "  \n",
       "    var js_urls = [];\n",
       "  \n",
       "    var inline_js = [\n",
       "      function(Bokeh) {\n",
       "        Bokeh.$(function() {\n",
       "            var docs_json = {\"56be86fd-0ccd-430d-b14a-149c146e4705\":{\"roots\":{\"references\":[{\"attributes\":{\"callback\":null},\"id\":\"5b611fc9-c903-400c-83d7-ec64923385eb\",\"type\":\"DataRange1d\"},{\"attributes\":{\"plot\":{\"id\":\"63498239-a7d5-4f6c-9c0f-1cc93681f0cc\",\"subtype\":\"Figure\",\"type\":\"Plot\"}},\"id\":\"75be9083-860e-42c6-890b-b6ba1a343948\",\"type\":\"HelpTool\"},{\"attributes\":{},\"id\":\"ad89d726-ce11-4267-a8bb-b53c2c542794\",\"type\":\"BasicTicker\"},{\"attributes\":{\"plot\":{\"id\":\"63498239-a7d5-4f6c-9c0f-1cc93681f0cc\",\"subtype\":\"Figure\",\"type\":\"Plot\"}},\"id\":\"65550169-5c81-4d3a-9b3e-fead5c82ea3b\",\"type\":\"SaveTool\"},{\"attributes\":{\"plot\":null,\"text\":\"GPU Assisted Assembly vs Pure Python Assembly\"},\"id\":\"59297108-1895-4923-ae99-5ed54194f63a\",\"type\":\"Title\"},{\"attributes\":{\"data_source\":{\"id\":\"93d8bcfb-dc2b-450d-80dd-4d58c6c359cd\",\"type\":\"ColumnDataSource\"},\"glyph\":{\"id\":\"ce076bba-999b-45a1-b825-2cf03c520f6d\",\"type\":\"MultiLine\"},\"hover_glyph\":null,\"nonselection_glyph\":{\"id\":\"4bdca63b-2312-4ce6-94fa-57fd99a8cafa\",\"type\":\"MultiLine\"},\"selection_glyph\":null},\"id\":\"02c057fd-14dc-4f8c-b293-ca7462e7433f\",\"type\":\"GlyphRenderer\"},{\"attributes\":{\"active_drag\":\"auto\",\"active_scroll\":\"auto\",\"active_tap\":\"auto\",\"tools\":[{\"id\":\"9d86388a-6c88-441e-9856-8f3e3afd25e7\",\"type\":\"PanTool\"},{\"id\":\"9f3c887a-638a-4d58-b4a8-08c00e2a2a2f\",\"type\":\"WheelZoomTool\"},{\"id\":\"5da7faf4-3a0d-4748-b859-fca22a9b21f6\",\"type\":\"BoxZoomTool\"},{\"id\":\"65550169-5c81-4d3a-9b3e-fead5c82ea3b\",\"type\":\"SaveTool\"},{\"id\":\"4d948d96-7464-4e49-85b0-c94220eda81e\",\"type\":\"ResetTool\"},{\"id\":\"75be9083-860e-42c6-890b-b6ba1a343948\",\"type\":\"HelpTool\"}]},\"id\":\"b718dc7e-c047-4972-be1c-b389fbc7a08d\",\"type\":\"Toolbar\"},{\"attributes\":{\"callback\":null},\"id\":\"343a5fbe-7ce4-4e7b-a1a7-c70cfd2cdb72\",\"type\":\"DataRange1d\"},{\"attributes\":{\"overlay\":{\"id\":\"ef3b0524-3927-4bb6-a8aa-9da09ee1acec\",\"type\":\"BoxAnnotation\"},\"plot\":{\"id\":\"63498239-a7d5-4f6c-9c0f-1cc93681f0cc\",\"subtype\":\"Figure\",\"type\":\"Plot\"}},\"id\":\"5da7faf4-3a0d-4748-b859-fca22a9b21f6\",\"type\":\"BoxZoomTool\"},{\"attributes\":{\"dimension\":1,\"plot\":{\"id\":\"63498239-a7d5-4f6c-9c0f-1cc93681f0cc\",\"subtype\":\"Figure\",\"type\":\"Plot\"},\"ticker\":{\"id\":\"ad89d726-ce11-4267-a8bb-b53c2c542794\",\"type\":\"BasicTicker\"}},\"id\":\"f0083e2e-b1b0-41b5-81f0-1b78455a8e9b\",\"type\":\"Grid\"},{\"attributes\":{},\"id\":\"8e8c9bdb-fa7c-40a0-98d5-372133d62d52\",\"type\":\"BasicTickFormatter\"},{\"attributes\":{\"plot\":{\"id\":\"63498239-a7d5-4f6c-9c0f-1cc93681f0cc\",\"subtype\":\"Figure\",\"type\":\"Plot\"}},\"id\":\"4d948d96-7464-4e49-85b0-c94220eda81e\",\"type\":\"ResetTool\"},{\"attributes\":{},\"id\":\"bffda354-5d75-4a45-a772-90a13eb8155f\",\"type\":\"BasicTickFormatter\"},{\"attributes\":{},\"id\":\"b6787178-c682-4adb-9b89-a1833b0f6dec\",\"type\":\"BasicTicker\"},{\"attributes\":{\"line_color\":{\"field\":\"line_color\"},\"line_width\":{\"value\":2},\"xs\":{\"field\":\"xs\"},\"ys\":{\"field\":\"ys\"}},\"id\":\"ce076bba-999b-45a1-b825-2cf03c520f6d\",\"type\":\"MultiLine\"},{\"attributes\":{\"line_alpha\":{\"value\":0.1},\"line_color\":{\"value\":\"#1f77b4\"},\"line_width\":{\"value\":2},\"xs\":{\"field\":\"xs\"},\"ys\":{\"field\":\"ys\"}},\"id\":\"4bdca63b-2312-4ce6-94fa-57fd99a8cafa\",\"type\":\"MultiLine\"},{\"attributes\":{\"callback\":null,\"column_names\":[\"ys\",\"xs\",\"line_color\"],\"data\":{\"line_color\":[\"firebrick\",\"navy\"],\"xs\":[[5,10,15,20,25,30,35,40,45,50,55,60,65,70,75,80,85],[11.267709831000047,9.818606054000156,10.435634698000285,15.91144412299991,17.07000417299969,21.101019450999956,23.40265847699993,23.575782978999996,29.55098228299994,29.988303688000087,30.58005624999987,35.32120414399924,36.94936921599947,37.49704381799984,43.49610917800055,44.06622747599977,45.24880558199948]],\"ys\":[[5.848415021999244,13.375951134000388,8.383503173000463,10.200104548999661,12.840071923999858,14.59803893499975,15.409415425000589,17.226859213000353,19.325862753000365,20.909636643999875,21.92055673699997,23.98209688099996,25.746402654999656,26.41261695999947,28.197112466000362,29.624492800000553,30.450817831000677],[5,10,15,20,25,30,35,40,45,50,55,60,65,70,75,80,85]]}},\"id\":\"93d8bcfb-dc2b-450d-80dd-4d58c6c359cd\",\"type\":\"ColumnDataSource\"},{\"attributes\":{\"plot\":{\"id\":\"63498239-a7d5-4f6c-9c0f-1cc93681f0cc\",\"subtype\":\"Figure\",\"type\":\"Plot\"},\"ticker\":{\"id\":\"b6787178-c682-4adb-9b89-a1833b0f6dec\",\"type\":\"BasicTicker\"}},\"id\":\"2eff7e27-969c-4bc1-993a-cbcc00b99c80\",\"type\":\"Grid\"},{\"attributes\":{\"plot\":{\"id\":\"63498239-a7d5-4f6c-9c0f-1cc93681f0cc\",\"subtype\":\"Figure\",\"type\":\"Plot\"}},\"id\":\"9d86388a-6c88-441e-9856-8f3e3afd25e7\",\"type\":\"PanTool\"},{\"attributes\":{\"bottom_units\":\"screen\",\"fill_alpha\":{\"value\":0.5},\"fill_color\":{\"value\":\"lightgrey\"},\"left_units\":\"screen\",\"level\":\"overlay\",\"line_alpha\":{\"value\":1.0},\"line_color\":{\"value\":\"black\"},\"line_dash\":[4,4],\"line_width\":{\"value\":2},\"plot\":null,\"render_mode\":\"css\",\"right_units\":\"screen\",\"top_units\":\"screen\"},\"id\":\"ef3b0524-3927-4bb6-a8aa-9da09ee1acec\",\"type\":\"BoxAnnotation\"},{\"attributes\":{\"axis_label\":\"Read Size\",\"formatter\":{\"id\":\"bffda354-5d75-4a45-a772-90a13eb8155f\",\"type\":\"BasicTickFormatter\"},\"plot\":{\"id\":\"63498239-a7d5-4f6c-9c0f-1cc93681f0cc\",\"subtype\":\"Figure\",\"type\":\"Plot\"},\"ticker\":{\"id\":\"b6787178-c682-4adb-9b89-a1833b0f6dec\",\"type\":\"BasicTicker\"}},\"id\":\"77817971-333f-4943-83e0-c216df9df9be\",\"type\":\"LinearAxis\"},{\"attributes\":{},\"id\":\"feb29c97-b60d-4178-be7e-021785f47f75\",\"type\":\"ToolEvents\"},{\"attributes\":{\"below\":[{\"id\":\"77817971-333f-4943-83e0-c216df9df9be\",\"type\":\"LinearAxis\"}],\"left\":[{\"id\":\"8f46722e-f392-4da2-b570-b807f2e0676a\",\"type\":\"LinearAxis\"}],\"plot_height\":400,\"plot_width\":800,\"renderers\":[{\"id\":\"77817971-333f-4943-83e0-c216df9df9be\",\"type\":\"LinearAxis\"},{\"id\":\"2eff7e27-969c-4bc1-993a-cbcc00b99c80\",\"type\":\"Grid\"},{\"id\":\"8f46722e-f392-4da2-b570-b807f2e0676a\",\"type\":\"LinearAxis\"},{\"id\":\"f0083e2e-b1b0-41b5-81f0-1b78455a8e9b\",\"type\":\"Grid\"},{\"id\":\"ef3b0524-3927-4bb6-a8aa-9da09ee1acec\",\"type\":\"BoxAnnotation\"},{\"id\":\"02c057fd-14dc-4f8c-b293-ca7462e7433f\",\"type\":\"GlyphRenderer\"}],\"title\":{\"id\":\"59297108-1895-4923-ae99-5ed54194f63a\",\"type\":\"Title\"},\"tool_events\":{\"id\":\"feb29c97-b60d-4178-be7e-021785f47f75\",\"type\":\"ToolEvents\"},\"toolbar\":{\"id\":\"b718dc7e-c047-4972-be1c-b389fbc7a08d\",\"type\":\"Toolbar\"},\"x_range\":{\"id\":\"5b611fc9-c903-400c-83d7-ec64923385eb\",\"type\":\"DataRange1d\"},\"y_range\":{\"id\":\"343a5fbe-7ce4-4e7b-a1a7-c70cfd2cdb72\",\"type\":\"DataRange1d\"}},\"id\":\"63498239-a7d5-4f6c-9c0f-1cc93681f0cc\",\"subtype\":\"Figure\",\"type\":\"Plot\"},{\"attributes\":{\"axis_label\":\"Time\",\"formatter\":{\"id\":\"8e8c9bdb-fa7c-40a0-98d5-372133d62d52\",\"type\":\"BasicTickFormatter\"},\"plot\":{\"id\":\"63498239-a7d5-4f6c-9c0f-1cc93681f0cc\",\"subtype\":\"Figure\",\"type\":\"Plot\"},\"ticker\":{\"id\":\"ad89d726-ce11-4267-a8bb-b53c2c542794\",\"type\":\"BasicTicker\"}},\"id\":\"8f46722e-f392-4da2-b570-b807f2e0676a\",\"type\":\"LinearAxis\"},{\"attributes\":{\"plot\":{\"id\":\"63498239-a7d5-4f6c-9c0f-1cc93681f0cc\",\"subtype\":\"Figure\",\"type\":\"Plot\"}},\"id\":\"9f3c887a-638a-4d58-b4a8-08c00e2a2a2f\",\"type\":\"WheelZoomTool\"}],\"root_ids\":[\"63498239-a7d5-4f6c-9c0f-1cc93681f0cc\"]},\"title\":\"Bokeh Application\",\"version\":\"0.12.2\"}};\n",
       "            var render_items = [{\"docid\":\"56be86fd-0ccd-430d-b14a-149c146e4705\",\"elementid\":\"8c7a7174-949f-467d-afef-0956c0ef3f59\",\"modelid\":\"63498239-a7d5-4f6c-9c0f-1cc93681f0cc\"}];\n",
       "            \n",
       "            Bokeh.embed.embed_items(docs_json, render_items);\n",
       "        });\n",
       "      },\n",
       "      function(Bokeh) {\n",
       "      }\n",
       "    ];\n",
       "  \n",
       "    function run_inline_js() {\n",
       "      \n",
       "      if ((window.Bokeh !== undefined) || (force === \"1\")) {\n",
       "        for (var i = 0; i < inline_js.length; i++) {\n",
       "          inline_js[i](window.Bokeh);\n",
       "        }if (force === \"1\") {\n",
       "          display_loaded();\n",
       "        }} else if (Date.now() < window._bokeh_timeout) {\n",
       "        setTimeout(run_inline_js, 100);\n",
       "      } else if (!window._bokeh_failed_load) {\n",
       "        console.log(\"Bokeh: BokehJS failed to load within specified timeout.\");\n",
       "        window._bokeh_failed_load = true;\n",
       "      } else if (!force) {\n",
       "        var cell = $(\"#8c7a7174-949f-467d-afef-0956c0ef3f59\").parents('.cell').data().cell;\n",
       "        cell.output_area.append_execute_result(NB_LOAD_WARNING)\n",
       "      }\n",
       "  \n",
       "    }\n",
       "  \n",
       "    if (window._bokeh_is_loading === 0) {\n",
       "      console.log(\"Bokeh: BokehJS loaded, going straight to plotting\");\n",
       "      run_inline_js();\n",
       "    } else {\n",
       "      load_libs(js_urls, function() {\n",
       "        console.log(\"Bokeh: BokehJS plotting callback run at\", now());\n",
       "        run_inline_js();\n",
       "      });\n",
       "    }\n",
       "  }(this));\n",
       "</script>"
      ]
     },
     "metadata": {},
     "output_type": "display_data"
    }
   ],
   "source": [
    "myPlot = figure(plot_width=800, plot_height=400, title=\"GPU Assisted Assembly vs Pure Python Assembly\")\n",
    "myPlot.xaxis.axis_label='Read Size'\n",
    "myPlot.yaxis.axis_label='Time'\n",
    "myPlot.multi_line([read_sizes,run_times],[base_run_times,base_read_sizes],color=[\"firebrick\", \"navy\"],line_width=2)\n",
    "show(myPlot)"
   ]
  },
  {
   "cell_type": "code",
   "execution_count": 39,
   "metadata": {
    "collapsed": false
   },
   "outputs": [
    {
     "data": {
      "text/html": [
       "\n",
       "\n",
       "    <div class=\"bk-root\">\n",
       "        <div class=\"plotdiv\" id=\"dfc08a86-f781-49cd-938f-c51fa7f623c1\"></div>\n",
       "    </div>\n",
       "<script type=\"text/javascript\">\n",
       "  \n",
       "  (function(global) {\n",
       "    function now() {\n",
       "      return new Date();\n",
       "    }\n",
       "  \n",
       "    var force = \"\";\n",
       "  \n",
       "    if (typeof (window._bokeh_onload_callbacks) === \"undefined\" || force !== \"\") {\n",
       "      window._bokeh_onload_callbacks = [];\n",
       "      window._bokeh_is_loading = undefined;\n",
       "    }\n",
       "  \n",
       "  \n",
       "    \n",
       "    if (typeof (window._bokeh_timeout) === \"undefined\" || force !== \"\") {\n",
       "      window._bokeh_timeout = Date.now() + 0;\n",
       "      window._bokeh_failed_load = false;\n",
       "    }\n",
       "  \n",
       "    var NB_LOAD_WARNING = {'data': {'text/html':\n",
       "       \"<div style='background-color: #fdd'>\\n\"+\n",
       "       \"<p>\\n\"+\n",
       "       \"BokehJS does not appear to have successfully loaded. If loading BokehJS from CDN, this \\n\"+\n",
       "       \"may be due to a slow or bad network connection. Possible fixes:\\n\"+\n",
       "       \"</p>\\n\"+\n",
       "       \"<ul>\\n\"+\n",
       "       \"<li>re-rerun `output_notebook()` to attempt to load from CDN again, or</li>\\n\"+\n",
       "       \"<li>use INLINE resources instead, as so:</li>\\n\"+\n",
       "       \"</ul>\\n\"+\n",
       "       \"<code>\\n\"+\n",
       "       \"from bokeh.resources import INLINE\\n\"+\n",
       "       \"output_notebook(resources=INLINE)\\n\"+\n",
       "       \"</code>\\n\"+\n",
       "       \"</div>\"}};\n",
       "  \n",
       "    function display_loaded() {\n",
       "      if (window.Bokeh !== undefined) {\n",
       "        Bokeh.$(\"#dfc08a86-f781-49cd-938f-c51fa7f623c1\").text(\"BokehJS successfully loaded.\");\n",
       "      } else if (Date.now() < window._bokeh_timeout) {\n",
       "        setTimeout(display_loaded, 100)\n",
       "      }\n",
       "    }\n",
       "  \n",
       "    function run_callbacks() {\n",
       "      window._bokeh_onload_callbacks.forEach(function(callback) { callback() });\n",
       "      delete window._bokeh_onload_callbacks\n",
       "      console.info(\"Bokeh: all callbacks have finished\");\n",
       "    }\n",
       "  \n",
       "    function load_libs(js_urls, callback) {\n",
       "      window._bokeh_onload_callbacks.push(callback);\n",
       "      if (window._bokeh_is_loading > 0) {\n",
       "        console.log(\"Bokeh: BokehJS is being loaded, scheduling callback at\", now());\n",
       "        return null;\n",
       "      }\n",
       "      if (js_urls == null || js_urls.length === 0) {\n",
       "        run_callbacks();\n",
       "        return null;\n",
       "      }\n",
       "      console.log(\"Bokeh: BokehJS not loaded, scheduling load and callback at\", now());\n",
       "      window._bokeh_is_loading = js_urls.length;\n",
       "      for (var i = 0; i < js_urls.length; i++) {\n",
       "        var url = js_urls[i];\n",
       "        var s = document.createElement('script');\n",
       "        s.src = url;\n",
       "        s.async = false;\n",
       "        s.onreadystatechange = s.onload = function() {\n",
       "          window._bokeh_is_loading--;\n",
       "          if (window._bokeh_is_loading === 0) {\n",
       "            console.log(\"Bokeh: all BokehJS libraries loaded\");\n",
       "            run_callbacks()\n",
       "          }\n",
       "        };\n",
       "        s.onerror = function() {\n",
       "          console.warn(\"failed to load library \" + url);\n",
       "        };\n",
       "        console.log(\"Bokeh: injecting script tag for BokehJS library: \", url);\n",
       "        document.getElementsByTagName(\"head\")[0].appendChild(s);\n",
       "      }\n",
       "    };var element = document.getElementById(\"dfc08a86-f781-49cd-938f-c51fa7f623c1\");\n",
       "    if (element == null) {\n",
       "      console.log(\"Bokeh: ERROR: autoload.js configured with elementid 'dfc08a86-f781-49cd-938f-c51fa7f623c1' but no matching script tag was found. \")\n",
       "      return false;\n",
       "    }\n",
       "  \n",
       "    var js_urls = [];\n",
       "  \n",
       "    var inline_js = [\n",
       "      function(Bokeh) {\n",
       "        Bokeh.$(function() {\n",
       "            var docs_json = {\"f770c0dc-ad12-4525-a1a2-4569b5a60eec\":{\"roots\":{\"references\":[{\"attributes\":{},\"id\":\"5c55f114-466b-4c27-bb5e-840a3ed50c66\",\"type\":\"BasicTicker\"},{\"attributes\":{},\"id\":\"ad7c6fee-426a-41ff-824d-541cc926a1e6\",\"type\":\"ToolEvents\"},{\"attributes\":{\"dimension\":1,\"plot\":{\"id\":\"d03ee9c0-a977-4a50-9d5a-df57997df3cc\",\"subtype\":\"Figure\",\"type\":\"Plot\"},\"ticker\":{\"id\":\"5c55f114-466b-4c27-bb5e-840a3ed50c66\",\"type\":\"BasicTicker\"}},\"id\":\"5051ad6f-f0a6-44e5-b872-d5e3699d5c77\",\"type\":\"Grid\"},{\"attributes\":{\"plot\":{\"id\":\"d03ee9c0-a977-4a50-9d5a-df57997df3cc\",\"subtype\":\"Figure\",\"type\":\"Plot\"}},\"id\":\"2cfcc0e0-e7d8-455e-815d-fa8a59fb948c\",\"type\":\"HelpTool\"},{\"attributes\":{\"data_source\":{\"id\":\"b1de3bbc-1fee-4b47-be4a-d9d91128b566\",\"type\":\"ColumnDataSource\"},\"glyph\":{\"id\":\"3ef8ff79-1496-4549-877f-cb7af982c517\",\"type\":\"Circle\"},\"hover_glyph\":null,\"nonselection_glyph\":{\"id\":\"7f5f9be5-1b7f-4c2c-9df2-c765c629b7fb\",\"type\":\"Circle\"},\"selection_glyph\":null},\"id\":\"84d8fbc5-4c96-4cd7-a0af-121081cfd51d\",\"type\":\"GlyphRenderer\"},{\"attributes\":{\"fill_color\":{\"value\":\"navy\"},\"line_color\":{\"value\":\"navy\"},\"x\":{\"field\":\"x\"},\"y\":{\"field\":\"y\"}},\"id\":\"3ef8ff79-1496-4549-877f-cb7af982c517\",\"type\":\"Circle\"},{\"attributes\":{\"callback\":null,\"column_names\":[\"x\",\"y\"],\"data\":{\"x\":[5,10,15,20,25,30,35,40,45,50,55,60,65,70,75,80,85],\"y\":[11.267709831000047,9.818606054000156,10.435634698000285,15.91144412299991,17.07000417299969,21.101019450999956,23.40265847699993,23.575782978999996,29.55098228299994,29.988303688000087,30.58005624999987,35.32120414399924,36.94936921599947,37.49704381799984,43.49610917800055,44.06622747599977,45.24880558199948]}},\"id\":\"b1de3bbc-1fee-4b47-be4a-d9d91128b566\",\"type\":\"ColumnDataSource\"},{\"attributes\":{\"plot\":{\"id\":\"d03ee9c0-a977-4a50-9d5a-df57997df3cc\",\"subtype\":\"Figure\",\"type\":\"Plot\"}},\"id\":\"00470796-715a-4f72-8085-bbb6b63d87f2\",\"type\":\"SaveTool\"},{\"attributes\":{\"line_alpha\":{\"value\":0.1},\"line_color\":{\"value\":\"#1f77b4\"},\"line_width\":{\"value\":2},\"x\":{\"field\":\"x\"},\"y\":{\"field\":\"y\"}},\"id\":\"c4170f8c-b58f-45c5-ad44-4648983c7188\",\"type\":\"Line\"},{\"attributes\":{\"fill_color\":{\"value\":\"firebrick\"},\"line_color\":{\"value\":\"firebrick\"},\"x\":{\"field\":\"x\"},\"y\":{\"field\":\"y\"}},\"id\":\"04871141-2306-4a92-9502-e200c0048068\",\"type\":\"Square\"},{\"attributes\":{\"callback\":null,\"column_names\":[\"x\",\"y\"],\"data\":{\"x\":[5,10,15,20,25,30,35,40,45,50,55,60,65,70,75,80,85],\"y\":[11.267709831000047,9.818606054000156,10.435634698000285,15.91144412299991,17.07000417299969,21.101019450999956,23.40265847699993,23.575782978999996,29.55098228299994,29.988303688000087,30.58005624999987,35.32120414399924,36.94936921599947,37.49704381799984,43.49610917800055,44.06622747599977,45.24880558199948]}},\"id\":\"623ce757-80bf-4006-9294-3a84047e9f07\",\"type\":\"ColumnDataSource\"},{\"attributes\":{\"callback\":null},\"id\":\"7ef76930-dd55-4c19-b85e-d1c5b1e30f77\",\"type\":\"DataRange1d\"},{\"attributes\":{\"legends\":[[\"GPU Assisted\",[{\"id\":\"84d8fbc5-4c96-4cd7-a0af-121081cfd51d\",\"type\":\"GlyphRenderer\"},{\"id\":\"b97141d6-0827-4ccf-a701-19a85da5087d\",\"type\":\"GlyphRenderer\"}]],[\"Pure Python\",[{\"id\":\"2ea23f8d-b025-4eb2-be6c-4eb98ac55e79\",\"type\":\"GlyphRenderer\"},{\"id\":\"3f316872-30e7-4367-9817-fefede3eba76\",\"type\":\"GlyphRenderer\"}]]],\"location\":\"bottom_right\",\"plot\":{\"id\":\"d03ee9c0-a977-4a50-9d5a-df57997df3cc\",\"subtype\":\"Figure\",\"type\":\"Plot\"}},\"id\":\"a5a1ecf7-40df-4783-9527-06edbb3db646\",\"type\":\"Legend\"},{\"attributes\":{\"axis_label\":\"Read Size\",\"formatter\":{\"id\":\"d3b42620-dd54-4f1e-8ba7-bba546430c09\",\"type\":\"BasicTickFormatter\"},\"plot\":{\"id\":\"d03ee9c0-a977-4a50-9d5a-df57997df3cc\",\"subtype\":\"Figure\",\"type\":\"Plot\"},\"ticker\":{\"id\":\"fe331226-9fbd-4ea9-90f4-0c58fc37262d\",\"type\":\"BasicTicker\"}},\"id\":\"b378a017-9ac3-45aa-aa75-46cf080092e9\",\"type\":\"LinearAxis\"},{\"attributes\":{\"plot\":null,\"text\":\"GPU Assisted Assembly vs Pure Python Assembly\"},\"id\":\"cf179cfd-a8ee-48bf-8d8a-4bb60df8eb96\",\"type\":\"Title\"},{\"attributes\":{\"plot\":{\"id\":\"d03ee9c0-a977-4a50-9d5a-df57997df3cc\",\"subtype\":\"Figure\",\"type\":\"Plot\"},\"ticker\":{\"id\":\"fe331226-9fbd-4ea9-90f4-0c58fc37262d\",\"type\":\"BasicTicker\"}},\"id\":\"f21b1406-8113-4e98-a1a0-01c5a945f3d2\",\"type\":\"Grid\"},{\"attributes\":{\"line_color\":{\"value\":\"#1f77b4\"},\"line_width\":{\"value\":2},\"x\":{\"field\":\"x\"},\"y\":{\"field\":\"y\"}},\"id\":\"918c69b6-149f-4719-9d39-7a859ed0c678\",\"type\":\"Line\"},{\"attributes\":{\"fill_alpha\":{\"value\":0.1},\"fill_color\":{\"value\":\"#1f77b4\"},\"line_alpha\":{\"value\":0.1},\"line_color\":{\"value\":\"#1f77b4\"},\"x\":{\"field\":\"x\"},\"y\":{\"field\":\"y\"}},\"id\":\"fa31de3c-4777-47ed-9ab4-dc6d80b3d46d\",\"type\":\"Square\"},{\"attributes\":{},\"id\":\"18778fc1-ed6e-4440-aac2-04ab15f60973\",\"type\":\"BasicTickFormatter\"},{\"attributes\":{\"data_source\":{\"id\":\"8de3fbf6-1e59-4326-a9dc-5890505ced03\",\"type\":\"ColumnDataSource\"},\"glyph\":{\"id\":\"04871141-2306-4a92-9502-e200c0048068\",\"type\":\"Square\"},\"hover_glyph\":null,\"nonselection_glyph\":{\"id\":\"fa31de3c-4777-47ed-9ab4-dc6d80b3d46d\",\"type\":\"Square\"},\"selection_glyph\":null},\"id\":\"2ea23f8d-b025-4eb2-be6c-4eb98ac55e79\",\"type\":\"GlyphRenderer\"},{\"attributes\":{\"fill_alpha\":{\"value\":0.1},\"fill_color\":{\"value\":\"#1f77b4\"},\"line_alpha\":{\"value\":0.1},\"line_color\":{\"value\":\"#1f77b4\"},\"x\":{\"field\":\"x\"},\"y\":{\"field\":\"y\"}},\"id\":\"7f5f9be5-1b7f-4c2c-9df2-c765c629b7fb\",\"type\":\"Circle\"},{\"attributes\":{\"callback\":null,\"column_names\":[\"x\",\"y\"],\"data\":{\"x\":[5,10,15,20,25,30,35,40,45,50,55,60,65,70,75,80,85],\"y\":[5.848415021999244,13.375951134000388,8.383503173000463,10.200104548999661,12.840071923999858,14.59803893499975,15.409415425000589,17.226859213000353,19.325862753000365,20.909636643999875,21.92055673699997,23.98209688099996,25.746402654999656,26.41261695999947,28.197112466000362,29.624492800000553,30.450817831000677]}},\"id\":\"8de3fbf6-1e59-4326-a9dc-5890505ced03\",\"type\":\"ColumnDataSource\"},{\"attributes\":{\"data_source\":{\"id\":\"623ce757-80bf-4006-9294-3a84047e9f07\",\"type\":\"ColumnDataSource\"},\"glyph\":{\"id\":\"918c69b6-149f-4719-9d39-7a859ed0c678\",\"type\":\"Line\"},\"hover_glyph\":null,\"nonselection_glyph\":{\"id\":\"c4170f8c-b58f-45c5-ad44-4648983c7188\",\"type\":\"Line\"},\"selection_glyph\":null},\"id\":\"b97141d6-0827-4ccf-a701-19a85da5087d\",\"type\":\"GlyphRenderer\"},{\"attributes\":{\"line_color\":{\"value\":\"firebrick\"},\"line_width\":{\"value\":2},\"x\":{\"field\":\"x\"},\"y\":{\"field\":\"y\"}},\"id\":\"e6a964de-6b6c-4778-bb30-7e5c2d0425e7\",\"type\":\"Line\"},{\"attributes\":{\"plot\":{\"id\":\"d03ee9c0-a977-4a50-9d5a-df57997df3cc\",\"subtype\":\"Figure\",\"type\":\"Plot\"}},\"id\":\"f11800ca-a794-4de7-ac4e-7ce44fa7c4dd\",\"type\":\"PanTool\"},{\"attributes\":{},\"id\":\"d3b42620-dd54-4f1e-8ba7-bba546430c09\",\"type\":\"BasicTickFormatter\"},{\"attributes\":{\"callback\":null},\"id\":\"d4887f20-499c-4caa-b981-07e267b38467\",\"type\":\"DataRange1d\"},{\"attributes\":{\"plot\":{\"id\":\"d03ee9c0-a977-4a50-9d5a-df57997df3cc\",\"subtype\":\"Figure\",\"type\":\"Plot\"}},\"id\":\"97a35cfd-1398-4098-bb1e-3504b08bd838\",\"type\":\"ResetTool\"},{\"attributes\":{\"data_source\":{\"id\":\"7ac0e8ff-0d2d-4a8d-bd8d-103638b0c924\",\"type\":\"ColumnDataSource\"},\"glyph\":{\"id\":\"e6a964de-6b6c-4778-bb30-7e5c2d0425e7\",\"type\":\"Line\"},\"hover_glyph\":null,\"nonselection_glyph\":{\"id\":\"8a09c293-3857-4ae2-8538-ee5004cd7a90\",\"type\":\"Line\"},\"selection_glyph\":null},\"id\":\"3f316872-30e7-4367-9817-fefede3eba76\",\"type\":\"GlyphRenderer\"},{\"attributes\":{\"overlay\":{\"id\":\"7a27f31e-1e15-4995-9fc1-70dce91fc6ef\",\"type\":\"BoxAnnotation\"},\"plot\":{\"id\":\"d03ee9c0-a977-4a50-9d5a-df57997df3cc\",\"subtype\":\"Figure\",\"type\":\"Plot\"}},\"id\":\"9bd08b1c-316d-4f60-978a-9c2523e6c6f4\",\"type\":\"BoxZoomTool\"},{\"attributes\":{\"below\":[{\"id\":\"b378a017-9ac3-45aa-aa75-46cf080092e9\",\"type\":\"LinearAxis\"}],\"left\":[{\"id\":\"e8a9c6e8-7624-4548-81cf-3b73d4d58921\",\"type\":\"LinearAxis\"}],\"plot_height\":400,\"plot_width\":800,\"renderers\":[{\"id\":\"b378a017-9ac3-45aa-aa75-46cf080092e9\",\"type\":\"LinearAxis\"},{\"id\":\"f21b1406-8113-4e98-a1a0-01c5a945f3d2\",\"type\":\"Grid\"},{\"id\":\"e8a9c6e8-7624-4548-81cf-3b73d4d58921\",\"type\":\"LinearAxis\"},{\"id\":\"5051ad6f-f0a6-44e5-b872-d5e3699d5c77\",\"type\":\"Grid\"},{\"id\":\"7a27f31e-1e15-4995-9fc1-70dce91fc6ef\",\"type\":\"BoxAnnotation\"},{\"id\":\"a5a1ecf7-40df-4783-9527-06edbb3db646\",\"type\":\"Legend\"},{\"id\":\"84d8fbc5-4c96-4cd7-a0af-121081cfd51d\",\"type\":\"GlyphRenderer\"},{\"id\":\"b97141d6-0827-4ccf-a701-19a85da5087d\",\"type\":\"GlyphRenderer\"},{\"id\":\"2ea23f8d-b025-4eb2-be6c-4eb98ac55e79\",\"type\":\"GlyphRenderer\"},{\"id\":\"3f316872-30e7-4367-9817-fefede3eba76\",\"type\":\"GlyphRenderer\"}],\"title\":{\"id\":\"cf179cfd-a8ee-48bf-8d8a-4bb60df8eb96\",\"type\":\"Title\"},\"tool_events\":{\"id\":\"ad7c6fee-426a-41ff-824d-541cc926a1e6\",\"type\":\"ToolEvents\"},\"toolbar\":{\"id\":\"baddd33a-1570-409b-b716-6a5698a11329\",\"type\":\"Toolbar\"},\"x_range\":{\"id\":\"7ef76930-dd55-4c19-b85e-d1c5b1e30f77\",\"type\":\"DataRange1d\"},\"y_range\":{\"id\":\"d4887f20-499c-4caa-b981-07e267b38467\",\"type\":\"DataRange1d\"}},\"id\":\"d03ee9c0-a977-4a50-9d5a-df57997df3cc\",\"subtype\":\"Figure\",\"type\":\"Plot\"},{\"attributes\":{},\"id\":\"fe331226-9fbd-4ea9-90f4-0c58fc37262d\",\"type\":\"BasicTicker\"},{\"attributes\":{\"bottom_units\":\"screen\",\"fill_alpha\":{\"value\":0.5},\"fill_color\":{\"value\":\"lightgrey\"},\"left_units\":\"screen\",\"level\":\"overlay\",\"line_alpha\":{\"value\":1.0},\"line_color\":{\"value\":\"black\"},\"line_dash\":[4,4],\"line_width\":{\"value\":2},\"plot\":null,\"render_mode\":\"css\",\"right_units\":\"screen\",\"top_units\":\"screen\"},\"id\":\"7a27f31e-1e15-4995-9fc1-70dce91fc6ef\",\"type\":\"BoxAnnotation\"},{\"attributes\":{\"callback\":null,\"column_names\":[\"x\",\"y\"],\"data\":{\"x\":[5,10,15,20,25,30,35,40,45,50,55,60,65,70,75,80,85],\"y\":[5.848415021999244,13.375951134000388,8.383503173000463,10.200104548999661,12.840071923999858,14.59803893499975,15.409415425000589,17.226859213000353,19.325862753000365,20.909636643999875,21.92055673699997,23.98209688099996,25.746402654999656,26.41261695999947,28.197112466000362,29.624492800000553,30.450817831000677]}},\"id\":\"7ac0e8ff-0d2d-4a8d-bd8d-103638b0c924\",\"type\":\"ColumnDataSource\"},{\"attributes\":{\"axis_label\":\"Time\",\"formatter\":{\"id\":\"18778fc1-ed6e-4440-aac2-04ab15f60973\",\"type\":\"BasicTickFormatter\"},\"plot\":{\"id\":\"d03ee9c0-a977-4a50-9d5a-df57997df3cc\",\"subtype\":\"Figure\",\"type\":\"Plot\"},\"ticker\":{\"id\":\"5c55f114-466b-4c27-bb5e-840a3ed50c66\",\"type\":\"BasicTicker\"}},\"id\":\"e8a9c6e8-7624-4548-81cf-3b73d4d58921\",\"type\":\"LinearAxis\"},{\"attributes\":{\"active_drag\":\"auto\",\"active_scroll\":\"auto\",\"active_tap\":\"auto\",\"tools\":[{\"id\":\"f11800ca-a794-4de7-ac4e-7ce44fa7c4dd\",\"type\":\"PanTool\"},{\"id\":\"bc1aeca7-493a-452e-aabc-3f4a8aa41790\",\"type\":\"WheelZoomTool\"},{\"id\":\"9bd08b1c-316d-4f60-978a-9c2523e6c6f4\",\"type\":\"BoxZoomTool\"},{\"id\":\"00470796-715a-4f72-8085-bbb6b63d87f2\",\"type\":\"SaveTool\"},{\"id\":\"97a35cfd-1398-4098-bb1e-3504b08bd838\",\"type\":\"ResetTool\"},{\"id\":\"2cfcc0e0-e7d8-455e-815d-fa8a59fb948c\",\"type\":\"HelpTool\"}]},\"id\":\"baddd33a-1570-409b-b716-6a5698a11329\",\"type\":\"Toolbar\"},{\"attributes\":{\"line_alpha\":{\"value\":0.1},\"line_color\":{\"value\":\"#1f77b4\"},\"line_width\":{\"value\":2},\"x\":{\"field\":\"x\"},\"y\":{\"field\":\"y\"}},\"id\":\"8a09c293-3857-4ae2-8538-ee5004cd7a90\",\"type\":\"Line\"},{\"attributes\":{\"plot\":{\"id\":\"d03ee9c0-a977-4a50-9d5a-df57997df3cc\",\"subtype\":\"Figure\",\"type\":\"Plot\"}},\"id\":\"bc1aeca7-493a-452e-aabc-3f4a8aa41790\",\"type\":\"WheelZoomTool\"}],\"root_ids\":[\"d03ee9c0-a977-4a50-9d5a-df57997df3cc\"]},\"title\":\"Bokeh Application\",\"version\":\"0.12.2\"}};\n",
       "            var render_items = [{\"docid\":\"f770c0dc-ad12-4525-a1a2-4569b5a60eec\",\"elementid\":\"dfc08a86-f781-49cd-938f-c51fa7f623c1\",\"modelid\":\"d03ee9c0-a977-4a50-9d5a-df57997df3cc\"}];\n",
       "            \n",
       "            Bokeh.embed.embed_items(docs_json, render_items);\n",
       "        });\n",
       "      },\n",
       "      function(Bokeh) {\n",
       "      }\n",
       "    ];\n",
       "  \n",
       "    function run_inline_js() {\n",
       "      \n",
       "      if ((window.Bokeh !== undefined) || (force === \"1\")) {\n",
       "        for (var i = 0; i < inline_js.length; i++) {\n",
       "          inline_js[i](window.Bokeh);\n",
       "        }if (force === \"1\") {\n",
       "          display_loaded();\n",
       "        }} else if (Date.now() < window._bokeh_timeout) {\n",
       "        setTimeout(run_inline_js, 100);\n",
       "      } else if (!window._bokeh_failed_load) {\n",
       "        console.log(\"Bokeh: BokehJS failed to load within specified timeout.\");\n",
       "        window._bokeh_failed_load = true;\n",
       "      } else if (!force) {\n",
       "        var cell = $(\"#dfc08a86-f781-49cd-938f-c51fa7f623c1\").parents('.cell').data().cell;\n",
       "        cell.output_area.append_execute_result(NB_LOAD_WARNING)\n",
       "      }\n",
       "  \n",
       "    }\n",
       "  \n",
       "    if (window._bokeh_is_loading === 0) {\n",
       "      console.log(\"Bokeh: BokehJS loaded, going straight to plotting\");\n",
       "      run_inline_js();\n",
       "    } else {\n",
       "      load_libs(js_urls, function() {\n",
       "        console.log(\"Bokeh: BokehJS plotting callback run at\", now());\n",
       "        run_inline_js();\n",
       "      });\n",
       "    }\n",
       "  }(this));\n",
       "</script>"
      ]
     },
     "metadata": {},
     "output_type": "display_data"
    }
   ],
   "source": [
    "p = figure(plot_width=800, plot_height=400, title=\"GPU Assisted Assembly vs Pure Python Assembly\")\n",
    "p.xaxis.axis_label='Read Size'\n",
    "p.yaxis.axis_label='Time'\n",
    "p.circle(read_sizes,run_times, legend='GPU Assisted', color='navy')\n",
    "p.line(read_sizes,run_times, legend='GPU Assisted',line_width=2)\n",
    "p.square(base_read_sizes,base_run_times,legend='Pure Python',color=\"firebrick\")\n",
    "p.line(base_read_sizes,base_run_times,legend='Pure Python',color=\"firebrick\",line_width=2)\n",
    "p.legend.location='bottom_right'\n",
    "show(p)"
   ]
  },
  {
   "cell_type": "code",
   "execution_count": null,
   "metadata": {
    "collapsed": true
   },
   "outputs": [],
   "source": []
  }
 ],
 "metadata": {
  "anaconda-cloud": {},
  "kernelspec": {
   "display_name": "PySpark (Spark 1.6.1)",
   "language": "python",
   "name": "pyspark"
  },
  "language_info": {
   "codemirror_mode": {
    "name": "ipython",
    "version": 3
   },
   "file_extension": ".py",
   "mimetype": "text/x-python",
   "name": "python",
   "nbconvert_exporter": "python",
   "pygments_lexer": "ipython3",
   "version": "3.5.2"
  }
 },
 "nbformat": 4,
 "nbformat_minor": 0
}
